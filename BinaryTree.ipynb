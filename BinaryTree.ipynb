{
 "cells": [
  {
   "cell_type": "code",
   "execution_count": 28,
   "metadata": {
    "collapsed": false
   },
   "outputs": [],
   "source": [
    "class Node(object):\n",
    "    def __init__(self,value):\n",
    "        self.value=value\n",
    "        self.left=None\n",
    "        self.right=None\n",
    "\n",
    "\n",
    "class BinaryTree(object):\n",
    "    def __init__(self,root):\n",
    "        self.root=Node(root)\n",
    "    \n",
    "    def search(self,find_value):\n",
    "        return self.preorder_search(self.root,find_value)\n",
    "    def print_tree(self):\n",
    "        \n",
    "        return self.preorder_print(self.root,\"\")[:-1]\n",
    "  \n",
    "    \n",
    "    def preorder_search(self,start,find_value):\n",
    "        if start:\n",
    "            if start.value==find_value:\n",
    "                return True\n",
    "            else:\n",
    "                #这个递归写法好聪明\n",
    "                #只要一半中有，另一半就不需要检查，在递归里面实现\n",
    "                return self.preorder_search(start.left,find_value) or self.preorder_search(start.right,find_value)\n",
    "        return False       \n",
    "    \n",
    "    def preorder_print(self,start,traversal):\n",
    "        if start:\n",
    "            traversal=traversal+str(start.value)+'-'\n",
    "            print traversal\n",
    "            #不知道这里为什么traversal需要不断传递\n",
    "            traversal=self.preorder_print(start.left,traversal)\n",
    "            traversal=self.preorder_print(start.right,traversal)\n",
    "        return traversal\n",
    "    \n",
    "    \n",
    "    def preorder_print_ls(self,start,ls):\n",
    "        if start:\n",
    "            #这里使用ls 每次递归时就不需要传递\n",
    "            ls.append(start.value)\n",
    "            self.preorder_print_ls(start.left,ls)\n",
    "            self.preorder_print_ls(start.right,ls)\n",
    "            #ls=self.preorder_print_ls(start.left,ls)\n",
    "            #ls=self.preorder_print_ls(start.right,ls)\n",
    "        return ls\n",
    "        \n",
    "    "
   ]
  },
  {
   "cell_type": "code",
   "execution_count": null,
   "metadata": {
    "collapsed": true
   },
   "outputs": [],
   "source": []
  },
  {
   "cell_type": "code",
   "execution_count": 29,
   "metadata": {
    "collapsed": false
   },
   "outputs": [
    {
     "name": "stdout",
     "output_type": "stream",
     "text": [
      "1-\n",
      "1-2-\n",
      "1-2-4-\n",
      "1-2-4-5-\n",
      "1-2-4-5-3-\n",
      "1-2-4-5-3-\n",
      "[1, 2, 4, 5, 3]\n",
      "True\n"
     ]
    }
   ],
   "source": [
    "tree = BinaryTree(1)\n",
    "tree.root.left = Node(2)\n",
    "tree.root.right = Node(3)\n",
    "tree.root.left.left = Node(4)\n",
    "tree.root.left.right = Node(5)\n",
    "\n",
    "\n",
    "\n",
    "print tree.preorder_print(tree.root,\"\")\n",
    "print tree.preorder_print_ls(tree.root,[])\n",
    "print tree.search(4)"
   ]
  },
  {
   "cell_type": "code",
   "execution_count": null,
   "metadata": {
    "collapsed": true
   },
   "outputs": [],
   "source": []
  }
 ],
 "metadata": {
  "kernelspec": {
   "display_name": "Python 2",
   "language": "python",
   "name": "python2"
  },
  "language_info": {
   "codemirror_mode": {
    "name": "ipython",
    "version": 2
   },
   "file_extension": ".py",
   "mimetype": "text/x-python",
   "name": "python",
   "nbconvert_exporter": "python",
   "pygments_lexer": "ipython2",
   "version": "2.7.13"
  }
 },
 "nbformat": 4,
 "nbformat_minor": 2
}
