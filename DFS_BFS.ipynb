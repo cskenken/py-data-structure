{
 "cells": [
  {
   "cell_type": "code",
   "execution_count": 1,
   "metadata": {
    "collapsed": false
   },
   "outputs": [],
   "source": [
    "class Node:\n",
    "    def __init__(self,value):\n",
    "        self.value=value\n",
    "        self.left_child=None\n",
    "        self.right_child=None\n",
    "        \n",
    "class Tree:\n",
    "    def __init__(self,root=None):\n",
    "        self.root=root\n",
    "    \n",
    "        \n",
    "root=Node('A')\n",
    "\n",
    "#root\n",
    "node_b=Node('B')\n",
    "node_c=Node('C')\n",
    "root.left_child=node_b\n",
    "root.right_child=node_c\n",
    "\n",
    "#node_b\n",
    "node_d=Node('D')\n",
    "node_e=Node('E')\n",
    "node_b.left_child=node_d\n",
    "node_b.right_child=node_e\n",
    "\n",
    "#node_E\n",
    "node_f=Node('F')\n",
    "node_e.right_child=node_f\n",
    "\n",
    "#node_c\n",
    "node_g=Node('G')\n",
    "node_h=Node('H')\n",
    "node_c.left_child=node_g\n",
    "node_c.right_child=node_h\n",
    "tree=Tree(root)   "
   ]
  },
  {
   "cell_type": "code",
   "execution_count": 2,
   "metadata": {
    "collapsed": false
   },
   "outputs": [
    {
     "name": "stdout",
     "output_type": "stream",
     "text": [
      "    A\n",
      "  B   C\n",
      " D E G H\n",
      "    F\n"
     ]
    }
   ],
   "source": [
    "print '    '+tree.root.value\n",
    "print '  '+tree.root.left_child.value,'  '+tree.root.right_child.value\n",
    "print ' '+tree.root.left_child.left_child.value,tree.root.left_child.right_child.value,\\\n",
    "      tree.root.right_child.left_child.value,tree.root.right_child.right_child.value\n",
    "print '    '+tree.root.left_child.right_child.right_child.value"
   ]
  },
  {
   "cell_type": "code",
   "execution_count": 3,
   "metadata": {
    "collapsed": false
   },
   "outputs": [
    {
     "name": "stdout",
     "output_type": "stream",
     "text": [
      "['A', 'B', 'C', 'D', 'E', 'G', 'H', 'F']\n"
     ]
    }
   ],
   "source": [
    "#BFS:A,B,C,D,E,G,H,F\n",
    "from collections import deque\n",
    "\n",
    "def bfs(tree):\n",
    "    values=[]\n",
    "    queue=deque([])\n",
    "    #enqueue:append()\n",
    "    #dequeue:popleft()\n",
    "    queue.append(tree.root)\n",
    "    \n",
    "    while len(queue):\n",
    "        node=queue.popleft()\n",
    "        values.append(node.value)\n",
    "        if node.left_child:\n",
    "            queue.append(node.left_child)\n",
    "        if node.right_child:\n",
    "            queue.append(node.right_child)  \n",
    "    return values\n",
    "\n",
    "print bfs(tree)"
   ]
  },
  {
   "cell_type": "code",
   "execution_count": 4,
   "metadata": {
    "collapsed": false
   },
   "outputs": [
    {
     "name": "stdout",
     "output_type": "stream",
     "text": [
      "['A', 'B', 'D', 'E', 'F', 'C', 'G', 'H']\n"
     ]
    }
   ],
   "source": [
    "#DFS\n",
    "#pre_order:A,B,D,E,F,C,G,H\n",
    "def pre_order(values,node):\n",
    "    if values==None:\n",
    "        values=[]\n",
    "    if node:\n",
    "        values.append(node.value)\n",
    "        if node.left_child==None and node.right_child==None:\n",
    "            return\n",
    "        if node.left_child:\n",
    "            pre_order(values,node.left_child)\n",
    "        if node.right_child:\n",
    "            pre_order(values,node.right_child)\n",
    "    return values\n",
    "values=[]\n",
    "print pre_order(values,tree.root)"
   ]
  },
  {
   "cell_type": "code",
   "execution_count": 7,
   "metadata": {
    "collapsed": false
   },
   "outputs": [
    {
     "name": "stdout",
     "output_type": "stream",
     "text": [
      "['A', 'B', 'D', 'E', 'F', 'C', 'G', 'H']\n"
     ]
    }
   ],
   "source": [
    "def pre_order(values,node):\n",
    "    if node==None:\n",
    "        return\n",
    "    else:\n",
    "        values.append(node.value)\n",
    "        pre_order(values,node.left_child)\n",
    "        pre_order(values,node.right_child)\n",
    "    return values\n",
    "values=[]\n",
    "print pre_order(values,tree.root)"
   ]
  },
  {
   "cell_type": "code",
   "execution_count": null,
   "metadata": {
    "collapsed": false
   },
   "outputs": [],
   "source": []
  },
  {
   "cell_type": "code",
   "execution_count": 10,
   "metadata": {
    "collapsed": false
   },
   "outputs": [
    {
     "name": "stdout",
     "output_type": "stream",
     "text": [
      "['D', 'B', 'E', 'F', 'A', 'G', 'C', 'H']\n"
     ]
    }
   ],
   "source": [
    "#DFS\n",
    "#in_order:D,B,E,F,A,G,C,H\n",
    "def in_order(values,node):\n",
    "    if node==None:\n",
    "        return\n",
    "    else:\n",
    "        in_order(values,node.left_child)\n",
    "        values.append(node.value)\n",
    "        in_order(values,node.right_child)\n",
    "    return values\n",
    "    pass\n",
    "values=[]\n",
    "print in_order(values,tree.root)"
   ]
  },
  {
   "cell_type": "code",
   "execution_count": 12,
   "metadata": {
    "collapsed": false
   },
   "outputs": [
    {
     "name": "stdout",
     "output_type": "stream",
     "text": [
      "['D', 'F', 'E', 'B', 'G', 'H', 'C', 'A']\n"
     ]
    }
   ],
   "source": [
    "#DFS\n",
    "#post_order:D,F,E,B,G,H,C,A\n",
    "def post_order(values,node):\n",
    "    if node==None:\n",
    "        return\n",
    "    else:\n",
    "        post_order(values,node.left_child)\n",
    "        post_order(values,node.right_child)\n",
    "        values.append(node.value)\n",
    "    return values\n",
    "values=[]\n",
    "print post_order(values,tree.root)\n",
    "    "
   ]
  },
  {
   "cell_type": "code",
   "execution_count": null,
   "metadata": {
    "collapsed": true
   },
   "outputs": [],
   "source": []
  }
 ],
 "metadata": {
  "kernelspec": {
   "display_name": "Python 2",
   "language": "python",
   "name": "python2"
  },
  "language_info": {
   "codemirror_mode": {
    "name": "ipython",
    "version": 2
   },
   "file_extension": ".py",
   "mimetype": "text/x-python",
   "name": "python",
   "nbconvert_exporter": "python",
   "pygments_lexer": "ipython2",
   "version": "2.7.13"
  }
 },
 "nbformat": 4,
 "nbformat_minor": 2
}
