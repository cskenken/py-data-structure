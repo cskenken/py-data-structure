{
 "cells": [
  {
   "cell_type": "code",
   "execution_count": 6,
   "metadata": {
    "collapsed": true
   },
   "outputs": [],
   "source": [
    "#使用linkedlist来实现stack\n",
    "class Element(object):\n",
    "    def __init__(self,value):\n",
    "        self.value=value\n",
    "        self.next=None\n",
    "class LinkedList(object):\n",
    "    def __init__(self,head=None):\n",
    "        self.head=head\n",
    "    def append(self,new_element):\n",
    "        current=self.head\n",
    "        if self.head:\n",
    "            while current.next:\n",
    "                current=current.next\n",
    "            current.next=new_element\n",
    "        else:\n",
    "            self.head=new_element\n",
    "    def insert_first(self,new_element):\n",
    "        current=self.head\n",
    "        if self.head:\n",
    "            self.head=new_element\n",
    "            new_element.next=current\n",
    "        else:\n",
    "            self.head=new_element\n",
    "    def delete_first(self):\n",
    "        current=self.head\n",
    "        if self.head:\n",
    "            self.head=current.next\n",
    "            return current\n",
    "        else:\n",
    "            return None\n",
    "        "
   ]
  },
  {
   "cell_type": "code",
   "execution_count": 9,
   "metadata": {
    "collapsed": true
   },
   "outputs": [],
   "source": [
    "#构造函数使用top,实现push和pop即可，十分抽象，可以使用linkedlist来实现\n",
    "class Stack(object):\n",
    "    def __init__(self,top=None):\n",
    "        self.ll=LinkedList(top)\n",
    "    def push(self,new_element):\n",
    "        self.ll.insert_first(new_element)\n",
    "    def pop(self):\n",
    "        return self.ll.delete_first()"
   ]
  },
  {
   "cell_type": "code",
   "execution_count": 10,
   "metadata": {
    "collapsed": false
   },
   "outputs": [],
   "source": [
    "e1 = Element(1)\n",
    "e2 = Element(2)\n",
    "e3 = Element(3)\n",
    "e4 = Element(4)"
   ]
  },
  {
   "cell_type": "code",
   "execution_count": 11,
   "metadata": {
    "collapsed": true
   },
   "outputs": [],
   "source": [
    "stack=Stack(e1)\n",
    "stack.push(e2)\n",
    "stack.push(e3)"
   ]
  },
  {
   "cell_type": "code",
   "execution_count": 12,
   "metadata": {
    "collapsed": false
   },
   "outputs": [
    {
     "name": "stdout",
     "output_type": "stream",
     "text": [
      "3\n"
     ]
    }
   ],
   "source": [
    "print stack.pop().value"
   ]
  },
  {
   "cell_type": "code",
   "execution_count": 13,
   "metadata": {
    "collapsed": false
   },
   "outputs": [
    {
     "name": "stdout",
     "output_type": "stream",
     "text": [
      "2\n"
     ]
    }
   ],
   "source": [
    "print stack.pop().value"
   ]
  },
  {
   "cell_type": "code",
   "execution_count": 14,
   "metadata": {
    "collapsed": false
   },
   "outputs": [
    {
     "name": "stdout",
     "output_type": "stream",
     "text": [
      "1\n"
     ]
    }
   ],
   "source": [
    "print stack.pop().value"
   ]
  },
  {
   "cell_type": "code",
   "execution_count": 15,
   "metadata": {
    "collapsed": false
   },
   "outputs": [
    {
     "name": "stdout",
     "output_type": "stream",
     "text": [
      "4\n"
     ]
    }
   ],
   "source": [
    "stack.push(e4)\n",
    "print stack.pop().value"
   ]
  },
  {
   "cell_type": "code",
   "execution_count": 17,
   "metadata": {
    "collapsed": false
   },
   "outputs": [],
   "source": [
    "#总结\n",
    "#构造linkedlist\n",
    "class Element(object):\n",
    "    def __init__(self,value):\n",
    "        self.value=value\n",
    "class LinkedList(object):\n",
    "    def __init__(self,head=None):\n",
    "        self.head=head\n",
    "    def append(self,new_element):\n",
    "        pass\n",
    "    def insert_first(self,new_element):\n",
    "        pass\n",
    "    def delete_first(self):\n",
    "        pass\n",
    "#使用linked list构造\n",
    "class Stack(object):\n",
    "    def __init__(self,top=None):\n",
    "        self.ll=LinkedList(top)\n",
    "    def pop(self):\n",
    "        self.ll.delete_first()\n",
    "    def push(self,new_element):\n",
    "        self.ll.insert_first(new_element)\n"
   ]
  },
  {
   "cell_type": "code",
   "execution_count": null,
   "metadata": {
    "collapsed": true
   },
   "outputs": [],
   "source": []
  }
 ],
 "metadata": {
  "kernelspec": {
   "display_name": "Python 2",
   "language": "python",
   "name": "python2"
  },
  "language_info": {
   "codemirror_mode": {
    "name": "ipython",
    "version": 2
   },
   "file_extension": ".py",
   "mimetype": "text/x-python",
   "name": "python",
   "nbconvert_exporter": "python",
   "pygments_lexer": "ipython2",
   "version": "2.7.13"
  }
 },
 "nbformat": 4,
 "nbformat_minor": 2
}
