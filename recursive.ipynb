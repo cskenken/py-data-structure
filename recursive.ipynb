{
 "cells": [
  {
   "cell_type": "code",
   "execution_count": null,
   "metadata": {
    "collapsed": true
   },
   "outputs": [],
   "source": [
    "#recursive function\n",
    "def recursive(input_n):\n",
    "    if input_n<=0:\n",
    "        return input_n\n",
    "    else:\n",
    "        output=recursive(input_n-1)#第一个部分：重复调用递归函数\n",
    "        return output\n",
    "#三个部分：\n",
    "#第一个部分：重复调用递归函数\n",
    "#第二个部分：基本停止条件\n",
    "#第三个部分：变化的输入（保证基本停止条件能发生）"
   ]
  },
  {
   "cell_type": "code",
   "execution_count": 4,
   "metadata": {
    "collapsed": false
   },
   "outputs": [
    {
     "name": "stdout",
     "output_type": "stream",
     "text": [
      "8\n"
     ]
    }
   ],
   "source": [
    "#使用loop来实现fibonacci数列\n",
    "#向前不断更新第一和第二两个数\n",
    "def get_fib(position):\n",
    "    first,second=0,1\n",
    "    for fib_pos in xrange(position-1):\n",
    "        first,second=second,first+second\n",
    "    return second\n",
    "print get_fib(6)"
   ]
  },
  {
   "cell_type": "code",
   "execution_count": 10,
   "metadata": {
    "collapsed": false
   },
   "outputs": [],
   "source": [
    "def get_fib(position):\n",
    "    if position==1:\n",
    "        output=1\n",
    "        return output\n",
    "    elif position<=0:\n",
    "        output=0\n",
    "        return output\n",
    "    elif position<0:\n",
    "        return -1\n",
    "    else:\n",
    "        output=get_fib(position-1)+get_fib(position-2)\n",
    "        return output"
   ]
  },
  {
   "cell_type": "code",
   "execution_count": 11,
   "metadata": {
    "collapsed": false
   },
   "outputs": [
    {
     "name": "stdout",
     "output_type": "stream",
     "text": [
      "89\n"
     ]
    }
   ],
   "source": [
    "print get_fib(11)"
   ]
  },
  {
   "cell_type": "code",
   "execution_count": 15,
   "metadata": {
    "collapsed": false
   },
   "outputs": [
    {
     "name": "stdout",
     "output_type": "stream",
     "text": [
      "89\n"
     ]
    }
   ],
   "source": [
    "def get_fib(position):\n",
    "    if position==0 or position==1:\n",
    "        return position\n",
    "    else:\n",
    "        return get_fib(position-1)+get_fib(position-2)\n",
    "print get_fib(11)"
   ]
  },
  {
   "cell_type": "code",
   "execution_count": null,
   "metadata": {
    "collapsed": true
   },
   "outputs": [],
   "source": []
  }
 ],
 "metadata": {
  "kernelspec": {
   "display_name": "Python 2",
   "language": "python",
   "name": "python2"
  },
  "language_info": {
   "codemirror_mode": {
    "name": "ipython",
    "version": 2
   },
   "file_extension": ".py",
   "mimetype": "text/x-python",
   "name": "python",
   "nbconvert_exporter": "python",
   "pygments_lexer": "ipython2",
   "version": "2.7.13"
  }
 },
 "nbformat": 4,
 "nbformat_minor": 2
}
