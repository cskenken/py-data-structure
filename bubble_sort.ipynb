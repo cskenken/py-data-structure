{
 "cells": [
  {
   "cell_type": "code",
   "execution_count": 14,
   "metadata": {
    "collapsed": false
   },
   "outputs": [
    {
     "name": "stdout",
     "output_type": "stream",
     "text": [
      "[4, 1, 3, 9, 20, 21, 6, 21, 14, 25]\n",
      "[1, 3, 4, 9, 20, 6, 21, 14, 21, 25]\n",
      "[1, 3, 4, 9, 6, 20, 14, 21, 21, 25]\n",
      "[1, 3, 4, 6, 9, 14, 20, 21, 21, 25]\n",
      "[1, 3, 4, 6, 9, 14, 20, 21, 21, 25]\n",
      "[1, 3, 4, 6, 9, 14, 20, 21, 21, 25]\n",
      "[1, 3, 4, 6, 9, 14, 20, 21, 21, 25]\n",
      "[1, 3, 4, 6, 9, 14, 20, 21, 21, 25]\n",
      "[1, 3, 4, 6, 9, 14, 20, 21, 21, 25]\n",
      "[1, 3, 4, 6, 9, 14, 20, 21, 21, 25]\n",
      "None\n"
     ]
    }
   ],
   "source": [
    "#冒泡排序 一种方式\n",
    "def bubble_sort(array):\n",
    "    n=len(array)\n",
    "    for i in xrange(n):\n",
    "        compare=n-1-i\n",
    "        x=0\n",
    "        while compare>0:\n",
    "            if array[x]>array[x+1]:\n",
    "                temp=array[x]\n",
    "                array[x]=array[x+1]\n",
    "                array[x+1]=temp\n",
    "            x=x+1\n",
    "            compare=compare-1            \n",
    "        print array\n",
    "test = [21, 4, 1, 3, 9, 20, 25, 6, 21, 14]\n",
    "print bubble_sort(test)  "
   ]
  },
  {
   "cell_type": "code",
   "execution_count": 18,
   "metadata": {
    "collapsed": false
   },
   "outputs": [
    {
     "name": "stdout",
     "output_type": "stream",
     "text": [
      "[1, 21, 4, 3, 9, 20, 25, 6, 21, 14]\n",
      "[1, 3, 21, 4, 9, 20, 25, 6, 21, 14]\n",
      "[1, 3, 4, 21, 9, 20, 25, 6, 21, 14]\n",
      "[1, 3, 4, 6, 21, 20, 25, 9, 21, 14]\n",
      "[1, 3, 4, 6, 9, 21, 25, 20, 21, 14]\n",
      "[1, 3, 4, 6, 9, 14, 25, 21, 21, 20]\n",
      "[1, 3, 4, 6, 9, 14, 20, 25, 21, 21]\n",
      "[1, 3, 4, 6, 9, 14, 20, 21, 25, 21]\n",
      "[1, 3, 4, 6, 9, 14, 20, 21, 21, 25]\n",
      "[1, 3, 4, 6, 9, 14, 20, 21, 21, 25]\n",
      "[1, 3, 4, 6, 9, 14, 20, 21, 21, 25]\n"
     ]
    }
   ],
   "source": [
    "#循环时最好是下标和次数联系起来，简洁一些\n",
    "#另一种方式\n",
    "def bubble_sort(array):\n",
    "    count=len(array)\n",
    "    for i in range(0,count):\n",
    "        for j in range(i,count):\n",
    "            if array[i]>array[j]:\n",
    "                array[i],array[j]=array[j],array[i]#交换数据\n",
    "                \n",
    "        print array\n",
    "    return array\n",
    "test = [21, 4, 1, 3, 9, 20, 25, 6, 21, 14]\n",
    "print bubble_sort(test)                     "
   ]
  }
 ],
 "metadata": {
  "kernelspec": {
   "display_name": "Python 2",
   "language": "python",
   "name": "python2"
  },
  "language_info": {
   "codemirror_mode": {
    "name": "ipython",
    "version": 2
   },
   "file_extension": ".py",
   "mimetype": "text/x-python",
   "name": "python",
   "nbconvert_exporter": "python",
   "pygments_lexer": "ipython2",
   "version": "2.7.13"
  }
 },
 "nbformat": 4,
 "nbformat_minor": 2
}
