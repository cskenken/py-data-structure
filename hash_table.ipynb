{
 "cells": [
  {
   "cell_type": "code",
   "execution_count": 6,
   "metadata": {
    "collapsed": true
   },
   "outputs": [],
   "source": [
    "class HashTable(object):\n",
    "    def __init__(self):\n",
    "        self.table=[None]*10000\n",
    "        \n",
    "    def store(self,string):\n",
    "        value=self.calculate_hash_value(string)\n",
    "        if self.table[value]==None:\n",
    "            self.table[value]=[]\n",
    "        self.table[value].append(string)\n",
    "        \n",
    "        \n",
    "    def lookup(self,string):\n",
    "        value=self.calculate_hash_value(string)\n",
    "        if self.table[value]==None:\n",
    "            return -1\n",
    "        else:\n",
    "            for temp in self.table[value]:\n",
    "                if temp==string:\n",
    "                    return value\n",
    "            return -1\n",
    "    \n",
    "    def calculate_hash_value(self,string):\n",
    "        value=ord(string[0].upper())*100+ord(string[1].upper())\n",
    "        return value\n",
    "       "
   ]
  },
  {
   "cell_type": "code",
   "execution_count": 7,
   "metadata": {
    "collapsed": false
   },
   "outputs": [
    {
     "name": "stdout",
     "output_type": "stream",
     "text": [
      "8568\n",
      "-1\n",
      "['UDACITY']\n",
      "8568\n",
      "8568\n"
     ]
    }
   ],
   "source": [
    "hash_table=HashTable()\n",
    "print hash_table.calculate_hash_value('UDACITY')\n",
    "\n",
    "print hash_table.lookup('UDACITY')\n",
    "\n",
    "hash_table.store('UDACITY')\n",
    "print hash_table.table[8568]\n",
    "print hash_table.lookup('UDACITY')\n",
    "\n",
    "hash_table.store('UDACIOUS')\n",
    "print hash_table.lookup('UDACIOUS')"
   ]
  },
  {
   "cell_type": "code",
   "execution_count": 15,
   "metadata": {
    "collapsed": false
   },
   "outputs": [
    {
     "name": "stdout",
     "output_type": "stream",
     "text": [
      "[2, 2, 3, 2, 2, 3, 2, 2, 3, 2, 2, 3, 2, 2, 3, 2, 2, 3, 2, 2, 3, 2, 2, 3, 2, 2, 3, 2, 2, 3]\n"
     ]
    }
   ],
   "source": [
    "a=[2,2,3]*10\n",
    "print a"
   ]
  },
  {
   "cell_type": "code",
   "execution_count": 16,
   "metadata": {
    "collapsed": true
   },
   "outputs": [],
   "source": [
    "a[1]=[2,3,4]"
   ]
  },
  {
   "cell_type": "code",
   "execution_count": 17,
   "metadata": {
    "collapsed": false
   },
   "outputs": [
    {
     "name": "stdout",
     "output_type": "stream",
     "text": [
      "[2, [2, 3, 4], 3, 2, 2, 3, 2, 2, 3, 2, 2, 3, 2, 2, 3, 2, 2, 3, 2, 2, 3, 2, 2, 3, 2, 2, 3, 2, 2, 3]\n"
     ]
    }
   ],
   "source": [
    "print a"
   ]
  },
  {
   "cell_type": "code",
   "execution_count": null,
   "metadata": {
    "collapsed": true
   },
   "outputs": [],
   "source": []
  }
 ],
 "metadata": {
  "kernelspec": {
   "display_name": "Python 2",
   "language": "python",
   "name": "python2"
  },
  "language_info": {
   "codemirror_mode": {
    "name": "ipython",
    "version": 2
   },
   "file_extension": ".py",
   "mimetype": "text/x-python",
   "name": "python",
   "nbconvert_exporter": "python",
   "pygments_lexer": "ipython2",
   "version": "2.7.13"
  }
 },
 "nbformat": 4,
 "nbformat_minor": 2
}
