{
 "cells": [
  {
   "cell_type": "code",
   "execution_count": 37,
   "metadata": {
    "collapsed": false
   },
   "outputs": [],
   "source": [
    "class Node(object):\n",
    "    def __init__(self,value):\n",
    "        self.value=value\n",
    "        self.left=None\n",
    "        self.right=None\n",
    "class BST(object):\n",
    "    def __init__(self,root):\n",
    "        self.root=Node(root)\n",
    "    def insert(self,new_val):\n",
    "        new_node=Node(new_val)\n",
    "        self.insert_preoder(tree.root,new_node)\n",
    "\n",
    "    \n",
    "    def search(self,find_val):\n",
    "        return self.binary_search(self.root,find_val)\n",
    "        \n",
    "    \n",
    "    def binary_search(self,node,find_val):\n",
    "        if node:\n",
    "            if node.value==find_val:\n",
    "                return 1\n",
    "            elif node.value<find_val:\n",
    "                return self.binary_search(node.right,find_val)\n",
    "                \n",
    "            else:\n",
    "                return self.binary_search(node.left,find_val)\n",
    "        return 0\n",
    "                    \n",
    "    def insert_preoder(self,node,new_node):\n",
    "        \n",
    "        if node.value<new_node.value:\n",
    "            if node.right:\n",
    "                self.insert_preoder(node.right,new_node)\n",
    "            else:\n",
    "                node.right=new_node\n",
    "                return\n",
    "        else:\n",
    "            if node.left:\n",
    "                self.insert_preoder(node.left,new_node)\n",
    "            else:\n",
    "                node.left=new_node\n",
    "                return\n",
    "         \n",
    "    \n",
    "    def print_tree(self):\n",
    "        \n",
    "        return self.preorder_print(self.root,\"\")[:-1]\n",
    "    \n",
    "    def preorder_print(self,start,traversal):\n",
    "        if start:\n",
    "            traversal=traversal+str(start.value)+'-'\n",
    "            #print traversal\n",
    "            #不知道这里为什么traversal需要不断传递\n",
    "            traversal=self.preorder_print(start.left,traversal)\n",
    "            traversal=self.preorder_print(start.right,traversal)\n",
    "        return traversal\n",
    "    \n",
    "    "
   ]
  },
  {
   "cell_type": "code",
   "execution_count": 38,
   "metadata": {
    "collapsed": false
   },
   "outputs": [
    {
     "name": "stdout",
     "output_type": "stream",
     "text": [
      "4-2\n",
      "4-2-1\n",
      "4-2-1-3\n",
      "4-2-1-3-5\n",
      "1\n",
      "0\n"
     ]
    }
   ],
   "source": [
    "# Set up tree\n",
    "tree = BST(4)\n",
    "\n",
    "# Insert elements\n",
    "tree.insert(2)\n",
    "print tree.print_tree()\n",
    "tree.insert(1)\n",
    "print tree.print_tree()\n",
    "tree.insert(3)\n",
    "print tree.print_tree()\n",
    "tree.insert(5)\n",
    "print tree.print_tree()\n",
    "\n",
    "# Check search\n",
    "# Should be True\n",
    "print tree.search(4)\n",
    "# Should be False\n",
    "print tree.search(6)"
   ]
  },
  {
   "cell_type": "code",
   "execution_count": null,
   "metadata": {
    "collapsed": true
   },
   "outputs": [],
   "source": []
  }
 ],
 "metadata": {
  "kernelspec": {
   "display_name": "Python 2",
   "language": "python",
   "name": "python2"
  },
  "language_info": {
   "codemirror_mode": {
    "name": "ipython",
    "version": 2
   },
   "file_extension": ".py",
   "mimetype": "text/x-python",
   "name": "python",
   "nbconvert_exporter": "python",
   "pygments_lexer": "ipython2",
   "version": "2.7.13"
  }
 },
 "nbformat": 4,
 "nbformat_minor": 2
}
