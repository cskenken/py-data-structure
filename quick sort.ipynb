{
 "cells": [
  {
   "cell_type": "code",
   "execution_count": 12,
   "metadata": {
    "collapsed": false
   },
   "outputs": [],
   "source": [
    "#快拍思路：\n",
    "\n",
    "#通过自己测试几次可以发现每次比较主元的方式\n",
    "\n",
    "#思路：\n",
    "###将快排的步骤分解，考虑快排的基本操作：\n",
    "###主框架\n",
    "#（1）找到主元，找到主元的准确位置\n",
    "#（2）在接下来的过程中，递归将左右两侧的数据按（1）找到主元\n",
    "\n",
    "###细节\n",
    "#（1）找到主元位置\n",
    "\n",
    "#选择最后一个位置做主元，每一次循环，都需要将选择的主元放到合适的位置\n",
    "\n",
    "#一个循环：从开始到主元前的每个元素都要与主元比较（由于主元变化，终止条件由主元的位置决定）\n",
    "   #每个位置可能发生多次与主元比较（次数不定，终止条件由主元和当前位置元素大小的决定：）\n",
    "     #当本位置比主元大，做相应的操作\n",
    "        \n",
    "#考虑是否有循环，循环的方式，终止条件（固定次数for，不固定次数while）：有循环，循环从起始位置，到主元位置，比较大小\n",
    "#考虑循环内的操作：内部每个位置多次比较也要循环，不固定次数，所以使用while，考虑终止条件\n",
    "\n"
   ]
  },
  {
   "cell_type": "code",
   "execution_count": null,
   "metadata": {
    "collapsed": true
   },
   "outputs": [],
   "source": [
    "#（2）递归：\n",
    "#递归的三个要素要理解：重复调用本身，终止条件，变化的输入\n",
    "\n",
    "#理解递归：\n",
    "\n",
    "#确定要解决问题，想改变的对象\n",
    "#理解递归是一个重复规律性操作，这个操作的效果是什么？\n",
    "#两次这样的操作之间的联系是什么，对问题本身的帮助是什么（一定需要一个对象，要么在输入，要么在输出），\n",
    "\n",
    "#在这个例子中，每次递归都是对 同一个list不同的部分进行主元排序，所以函数的输入时，改变对象是list，变化的输入是list的切片的范围，\n",
    "\n"
   ]
  },
  {
   "cell_type": "code",
   "execution_count": 10,
   "metadata": {
    "collapsed": false
   },
   "outputs": [
    {
     "name": "stdout",
     "output_type": "stream",
     "text": [
      "[1, 3, 4, 6, 9, 14, 20, 21, 25, 21]\n"
     ]
    }
   ],
   "source": [
    "\n",
    "\n",
    "def sort(array,start_index,end_index): \n",
    "    \n",
    "    if start_index>=end_index:\n",
    "        return\n",
    "    \n",
    "    pivot_index=end_index\n",
    "    index=start_index\n",
    "    \n",
    "    #确定主元的位置，\n",
    "    #主元前的每个位置都要比较（由于主元变化，使用while）\n",
    "    while index<pivot_index:\n",
    "        pivot=array[pivot_index]\n",
    "        \n",
    "        #每个位置多次比较，直到此位置比主元小，比较下一位置\n",
    "        while(array[index]>pivot): \n",
    "            \n",
    "            #交换位置\n",
    "            array[pivot_index]=array[index]\n",
    "            array[index]=array[pivot_index-1]\n",
    "            array[pivot_index-1]=pivot\n",
    "            \n",
    "            #更新pivot\n",
    "            pivot_index=pivot_index-1\n",
    "            pivot=array[pivot_index]\n",
    "        index=index+1\n",
    "        \n",
    "    sort(array,0,pivot_index-1)\n",
    "    sort(array,pivot_index+1,end_index)     \n",
    "    return array \n",
    "   \n"
   ]
  },
  {
   "cell_type": "code",
   "execution_count": null,
   "metadata": {
    "collapsed": true
   },
   "outputs": [],
   "source": []
  },
  {
   "cell_type": "code",
   "execution_count": 9,
   "metadata": {
    "collapsed": true
   },
   "outputs": [],
   "source": [
    "def quicksort(array):\n",
    "    start_index=0\n",
    "    end_index=len(array)-1\n",
    "    return sort(array,start_index,end_index)\n",
    "\n",
    "test = [21, 4, 1, 3, 9, 20, 25, 6, 21, 14]\n",
    "print quicksort(test)    "
   ]
  },
  {
   "cell_type": "code",
   "execution_count": null,
   "metadata": {
    "collapsed": true
   },
   "outputs": [],
   "source": []
  },
  {
   "cell_type": "code",
   "execution_count": 12,
   "metadata": {
    "collapsed": false
   },
   "outputs": [
    {
     "name": "stdout",
     "output_type": "stream",
     "text": [
      "[]\n",
      "<type 'list'>\n"
     ]
    }
   ],
   "source": [
    "a=[3,4,5,6,6]\n",
    "b=a[:0]\n",
    "print b\n",
    "print type(b)"
   ]
  },
  {
   "cell_type": "code",
   "execution_count": null,
   "metadata": {
    "collapsed": true
   },
   "outputs": [],
   "source": []
  }
 ],
 "metadata": {
  "kernelspec": {
   "display_name": "Python 2",
   "language": "python",
   "name": "python2"
  },
  "language_info": {
   "codemirror_mode": {
    "name": "ipython",
    "version": 2
   },
   "file_extension": ".py",
   "mimetype": "text/x-python",
   "name": "python",
   "nbconvert_exporter": "python",
   "pygments_lexer": "ipython2",
   "version": "2.7.13"
  }
 },
 "nbformat": 4,
 "nbformat_minor": 2
}
