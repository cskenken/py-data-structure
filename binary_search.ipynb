{
 "cells": [
  {
   "cell_type": "code",
   "execution_count": 19,
   "metadata": {
    "collapsed": false
   },
   "outputs": [
    {
     "name": "stdout",
     "output_type": "stream",
     "text": [
      "-1\n",
      "4\n"
     ]
    }
   ],
   "source": [
    "\"\"\"You're going to write a binary search function.\n",
    "You should use an iterative approach - meaning\n",
    "using loops.\n",
    "Your function should take two inputs:\n",
    "a Python list to search through, and the value\n",
    "you're searching for.\n",
    "Assume the list only has distinct elements,\n",
    "meaning there are no repeated values, and \n",
    "elements are in a strictly increasing order.\n",
    "Return the index of value, or -1 if the value\n",
    "doesn't exist in the list.\"\"\"\n",
    "\n",
    "#使用index标记每次分割点在原始数据中的位置，使用inter_index表示每次分割的偏移量\n",
    "#终止条件为分割的偏移量为0\n",
    "#这样的表示方法思路会相对混乱，不如使用起始点和终止点的下标，停止条件为起始点等于终止点\n",
    "\n",
    "#其次每次求偏移量还是要根据起始和终止的下标来确定，又绕了一圈，\n",
    "#不如直接使用起始下标和终止下标直接\n",
    "def binary_search(input_array, value):\n",
    "    \"\"\"Your code goes here.\"\"\"\n",
    "    length=len(input_array)\n",
    "    index=0\n",
    "    inter_index=length/2\n",
    "    index=index+inter_index\n",
    "    while inter_index:\n",
    "        if input_array[inter_index]==value:\n",
    "            return index\n",
    "        elif value>input_array[inter_index]:\n",
    "            input_array=input_array[inter_index:]\n",
    "            length=len(input_array)\n",
    "            inter_index=length/2\n",
    "            index=index+inter_index\n",
    "        else:\n",
    "            input_array=input_array[:inter_index]\n",
    "            length=len(input_array)\n",
    "            inter_index=length/2\n",
    "            index=index-inter_index\n",
    "        \n",
    "    if input_array[inter_index]==value:\n",
    "        return index\n",
    "    else:\n",
    "        return -1\n",
    "\n",
    "test_list = [1,3,9,11,15,19,29]\n",
    "test_val1 = 25\n",
    "test_val2 = 15\n",
    "print binary_search(test_list, test_val1)\n",
    "print binary_search(test_list, test_val2)"
   ]
  },
  {
   "cell_type": "code",
   "execution_count": 20,
   "metadata": {
    "collapsed": false
   },
   "outputs": [
    {
     "name": "stdout",
     "output_type": "stream",
     "text": [
      "-1\n",
      "4\n"
     ]
    }
   ],
   "source": [
    "#使用起始和终止下标来确定每次查找的范围\n",
    "#停止条件为 查找范围为1=起点和终点坐标一样\n",
    "def binary_search(input_array,value):\n",
    "    low=0\n",
    "    high=len(input_array)-1\n",
    "    while(low<=high):\n",
    "        mid=(low+high)/2\n",
    "        if input_array[mid]==value:\n",
    "            return mid\n",
    "        elif value>input_array[mid]:\n",
    "            low=mid+1\n",
    "        else:\n",
    "            high=mid-1\n",
    "    return -1\n",
    "test_list = [1,3,9,11,15,19,29]\n",
    "test_val1 = 25\n",
    "test_val2 = 15\n",
    "print binary_search(test_list, test_val1)\n",
    "print binary_search(test_list, test_val2)\n",
    "    \n",
    "            "
   ]
  },
  {
   "cell_type": "code",
   "execution_count": 6,
   "metadata": {
    "collapsed": false
   },
   "outputs": [
    {
     "data": {
      "text/plain": [
       "0"
      ]
     },
     "execution_count": 6,
     "metadata": {},
     "output_type": "execute_result"
    }
   ],
   "source": [
    "1/2\n"
   ]
  },
  {
   "cell_type": "code",
   "execution_count": null,
   "metadata": {
    "collapsed": true
   },
   "outputs": [],
   "source": []
  }
 ],
 "metadata": {
  "kernelspec": {
   "display_name": "Python 2",
   "language": "python",
   "name": "python2"
  },
  "language_info": {
   "codemirror_mode": {
    "name": "ipython",
    "version": 2
   },
   "file_extension": ".py",
   "mimetype": "text/x-python",
   "name": "python",
   "nbconvert_exporter": "python",
   "pygments_lexer": "ipython2",
   "version": "2.7.13"
  }
 },
 "nbformat": 4,
 "nbformat_minor": 2
}
