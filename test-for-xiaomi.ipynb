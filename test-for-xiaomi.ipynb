{
 "cells": [
  {
   "cell_type": "code",
   "execution_count": 2,
   "metadata": {
    "collapsed": false
   },
   "outputs": [],
   "source": [
    "#快排\n",
    "def quick_sort(ll,start_index,end_index):\n",
    "    if start_index>=end_index:\n",
    "        return \n",
    "    \n",
    "    pivot_index=end_index\n",
    "    \n",
    "    #get the right pivot index\n",
    "    index=start_index\n",
    "    while(index<pivot_index):\n",
    "        \n",
    "        #get the value of index smaller than that of pivot index\n",
    "        pivot=ll[pivot_index]\n",
    "        while(ll[index]>pivot):\n",
    "            \n",
    "            #change the position \n",
    "            ll[pivot_index]=ll[index]\n",
    "            ll[index]=ll[pivot_index-1]\n",
    "            ll[pivot_index-1]=pivot\n",
    "            \n",
    "            #updata the pivot pos and value\n",
    "            pivot_index-=1\n",
    "            pivot=ll[pivot_index]\n",
    "        \n",
    "        index+=1\n",
    "        \n",
    "    \n",
    "    quick_sort(ll,start,pivot_index-1)\n",
    "    quick_sort(ll,pivot_index+1,end)\n",
    "    return ll\n"
   ]
  },
  {
   "cell_type": "code",
   "execution_count": null,
   "metadata": {
    "collapsed": true
   },
   "outputs": [],
   "source": []
  },
  {
   "cell_type": "code",
   "execution_count": 4,
   "metadata": {
    "collapsed": false
   },
   "outputs": [],
   "source": [
    "#归并\n",
    "def merge_array(ll,start,mid,end):\n",
    "    i=start\n",
    "    j=mid+1\n",
    "    temp=[]\n",
    "    \n",
    "    #将较小的值放到临时变量\n",
    "    while i<=mid and j<=end:\n",
    "        if ll[i]<ll[j]:\n",
    "            temp.append(ll[i])\n",
    "            i+=1\n",
    "        else:\n",
    "            temp.append(ll[j])\n",
    "            j+=1\n",
    "    #将剩余的值放到临时变量\n",
    "    while i<=mid:\n",
    "        temp.append(ll[i])\n",
    "        i+=1\n",
    "    while j<=end:\n",
    "        temp.append(ll[j])\n",
    "        j+=1\n",
    "        \n",
    "    #将临时变量拷贝到ll中\n",
    "    k=0\n",
    "    for x in temp:\n",
    "        ll[first+k]=x\n",
    "        k+=1\n",
    "    \n",
    "\n",
    "def merge_sort(ll,start,end):\n",
    "    if start>end:\n",
    "        return  \n",
    "    mid=(start+end)/2\n",
    "    merge_sort(ll,start,mid)\n",
    "    merge_sort(ll,mid+1,end)\n",
    "    merge_array(ll,start,mid,end)\n",
    "    return ll"
   ]
  },
  {
   "cell_type": "code",
   "execution_count": 12,
   "metadata": {
    "collapsed": true
   },
   "outputs": [],
   "source": [
    "#直接插入排序\n",
    "def insert_sort(ll):\n",
    "    n=len(ll)\n",
    "    i=0\n",
    "    while i<n:\n",
    "        #put in the right place      \n",
    "        #begin at second place\n",
    "        if i>=1:\n",
    "            temp=ll[i]\n",
    "            k=0\n",
    "            #find  the right place \n",
    "            while k<i and ll[k]<temp:\n",
    "                k+=1\n",
    "                \n",
    "            #if the right place is not at i, then we need to insert\n",
    "            if k!=i:\n",
    "                temp_a=ll[k:i]\n",
    "                ll[k+1:i+1]=temp_a\n",
    "                ll[k]=temp              \n",
    "        i=i+1  \n",
    "    return ll"
   ]
  },
  {
   "cell_type": "code",
   "execution_count": 16,
   "metadata": {
    "collapsed": true
   },
   "outputs": [],
   "source": [
    "#冒泡排序\n",
    "def bubble_sort(array):\n",
    "    n=len(array)\n",
    "    for i in range(0,n):\n",
    "        for j in range(i,n):\n",
    "            if array[i]>array[j]:\n",
    "                array[i],array[j]=array[j],array[i]\n",
    "        print array\n",
    "    return array"
   ]
  },
  {
   "cell_type": "code",
   "execution_count": null,
   "metadata": {
    "collapsed": true
   },
   "outputs": [],
   "source": [
    "#构造listedlist\n",
    "class Node(object):\n",
    "    def __init__(self,val):\n",
    "        self.val=val\n",
    "        self.next=None\n",
    "        \n",
    "class LinkedList(object):\n",
    "    def __init__(self,head=None):\n",
    "        self.head=head\n",
    "    \n",
    "    def append(self,new_element):\n",
    "        pass\n",
    "    def insert(self,new_element,position):\n",
    "        pass\n",
    "    def get_position(self,pos):\n",
    "        pass\n",
    "    "
   ]
  },
  {
   "cell_type": "code",
   "execution_count": null,
   "metadata": {
    "collapsed": true
   },
   "outputs": [],
   "source": [
    "#构造Stack\n",
    "class Stack(object):\n",
    "    def __init__(self,top):\n",
    "        self.ll=LinkedList(top)\n",
    "    def push(self,new_element):\n",
    "        pass\n",
    "    def pop(self):\n",
    "        pass"
   ]
  },
  {
   "cell_type": "code",
   "execution_count": 20,
   "metadata": {
    "collapsed": false
   },
   "outputs": [],
   "source": [
    "#构造树\n",
    "class TreeNode(object):\n",
    "    def __init__(self,val):\n",
    "        self.value=val\n",
    "        self.left=None\n",
    "        self.right=None\n",
    "        \n",
    "class Tree(object):\n",
    "    def __init__(self,root):\n",
    "        self.root=TreeNode(root)\n",
    "    def preorder_search(self):\n",
    "        pass\n",
    "    "
   ]
  },
  {
   "cell_type": "code",
   "execution_count": 32,
   "metadata": {
    "collapsed": false
   },
   "outputs": [
    {
     "name": "stdout",
     "output_type": "stream",
     "text": [
      "array\n",
      "[2, 3, 4, 5, 4]\n",
      "[3, 4, 5]\n",
      "stack append 3\n",
      "[3, 4, 5, 3]\n",
      "stack pop\n",
      "[3, 4]\n",
      "deque([1, 3, 4, 5])\n",
      "5 enqueue \n",
      "deque([1, 3, 4, 5, 5])\n",
      "dequeue\n",
      "deque([3, 4, 5, 5])\n"
     ]
    }
   ],
   "source": [
    "#python中数据结构\n",
    "#基于array实现的list\n",
    "ll=[2,3,4,5]\n",
    "ll[3]\n",
    "ll.append(4)\n",
    "print \"array\"\n",
    "print ll\n",
    "\n",
    "#using list as stack\n",
    "stack=[3,4,5]\n",
    "print stack\n",
    "#push\n",
    "stack.append(3)\n",
    "print \"stack append 3\"\n",
    "print stack\n",
    "#pop\n",
    "print \"stack pop\"\n",
    "stack.pop()\n",
    "stack.pop()\n",
    "print stack\n",
    "\n",
    "#deque\n",
    "from collections import deque\n",
    "queue=deque([1,3,4,5])\n",
    "print queue\n",
    "print \"5 enqueue \"\n",
    "queue.append(5)\n",
    "print queue\n",
    "print \"dequeue\"\n",
    "queue.popleft()\n",
    "print queue\n"
   ]
  },
  {
   "cell_type": "code",
   "execution_count": 24,
   "metadata": {
    "collapsed": false,
    "scrolled": true
   },
   "outputs": [],
   "source": [
    "#反转单链表\n",
    "def reverse_linkedList(head):\n",
    "    if(head==None):\n",
    "        return None\n",
    "    if(head.next==None):\n",
    "        head.next.next=head\n",
    "        head.next\n",
    "    \n",
    "    p=head\n",
    "    q=head.next\n",
    "    r=None\n",
    "    head.next=None\n",
    "    while q:\n",
    "        r=q.next\n",
    "        q.next=p\n",
    "        p=q\n",
    "        q=r\n",
    "    head=p\n",
    "    return head"
   ]
  },
  {
   "cell_type": "code",
   "execution_count": null,
   "metadata": {
    "collapsed": true
   },
   "outputs": [],
   "source": [
    "#递归单链表\n",
    "def reverse_linkedList(head,mhead):\n",
    "    if head==None:\n",
    "        return None\n",
    "    if head.next==None:\n",
    "        mhead=head\n",
    "        return head\n",
    "    \n",
    "    new_tail=reverse_likedList(head.next,mhead)\n",
    "    new_tail.next=head\n",
    "    head.next=None\n",
    "    \n",
    "    return head\n"
   ]
  },
  {
   "cell_type": "code",
   "execution_count": null,
   "metadata": {
    "collapsed": true
   },
   "outputs": [],
   "source": [
    "#求一棵树的最深的深度\n",
    "def maxDepth(root):\n",
    "    if root==None:\n",
    "        return 0  \n",
    "    left_depth=maxDepth(root)\n",
    "    right_depth=maxDepth(root)\n",
    "    depth=max(left_depth,right_depth)+1\n",
    "    return depth"
   ]
  },
  {
   "cell_type": "code",
   "execution_count": 23,
   "metadata": {
    "collapsed": false
   },
   "outputs": [],
   "source": [
    "#求一棵树的最浅的深度\n",
    "def minDepth(root):\n",
    "    if root==None:\n",
    "        return 0\n",
    "    left_depth=minDepth(root.left)\n",
    "    right_depth=minDepth(root.right)\n",
    "    if left_depth==0:\n",
    "        return right_depth+1\n",
    "    if right_depth==0:\n",
    "        return left_depth+1\n",
    "    return min(left_depth,right_depth)+1  "
   ]
  },
  {
   "cell_type": "code",
   "execution_count": null,
   "metadata": {
    "collapsed": true
   },
   "outputs": [],
   "source": [
    "#判读一棵树是否平衡\n",
    "def isBalanced(root):\n",
    "    if root==None:\n",
    "        return True\n",
    "    left_depth=maxDepth(root.left)\n",
    "    right_depth=maxDepth(root.right)\n",
    "    if abs(left_depth-right_depth)>1:\n",
    "        return False\n",
    "    return isBalanced(root.left) and isBalanced(root.right)"
   ]
  },
  {
   "cell_type": "code",
   "execution_count": null,
   "metadata": {
    "collapsed": true
   },
   "outputs": [],
   "source": [
    "#经过优化的判断树是否平衡\n",
    "def solve(root): \n",
    "    tmp_left=solve(root.left)\n",
    "    tmp_right=solve(root.right)\n",
    "    depth=max(tmp_left[0],tmp_right[0])+1\n",
    "    if abs(tmp_left[0]-tmp_right[0])>1:\n",
    "        return [depth,False]\n",
    "    return [depth,tmp_left[1] and tmp_right[1]]"
   ]
  },
  {
   "cell_type": "code",
   "execution_count": null,
   "metadata": {
    "collapsed": true
   },
   "outputs": [],
   "source": [
    "#判读一个树是否是对称\n",
    "def isSymmetric(root):\n",
    "    if root==None:\n",
    "        return True\n",
    "    return SymmetircHelper(root.left,root.right)\n",
    "\n",
    "def SymmetricHelper(node1,node2): \n",
    "    if node1==None:\n",
    "        return node2==None\n",
    "    if node1==None:\n",
    "        return node1==None\n",
    "    if node1.val==node2.val:\n",
    "        return SymmeticHelper(node1.left,node2.right) and SymmetircHelper(node1.right,node1.left)\n",
    "    return False"
   ]
  },
  {
   "cell_type": "code",
   "execution_count": null,
   "metadata": {
    "collapsed": true
   },
   "outputs": [],
   "source": [
    "#判断两棵树是否一样\n",
    "def isSame(root1,root2):\n",
    "    if root1==None:\n",
    "        return root2==None\n",
    "    if root2==None:\n",
    "        return root1==None\n",
    "    if root1.val==root2.val:\n",
    "        return isSame(root1.left,root2.left) and isSame(root1.right,root2.right)\n",
    "    return False\n"
   ]
  },
  {
   "cell_type": "code",
   "execution_count": 25,
   "metadata": {
    "collapsed": false
   },
   "outputs": [
    {
     "ename": "IndentationError",
     "evalue": "expected an indented block (<ipython-input-25-30ac58a5efac>, line 11)",
     "output_type": "error",
     "traceback": [
      "\u001b[0;36m  File \u001b[0;32m\"<ipython-input-25-30ac58a5efac>\"\u001b[0;36m, line \u001b[0;32m11\u001b[0m\n\u001b[0;31m    def inorder_traversal(ll,root):\u001b[0m\n\u001b[0m                                   ^\u001b[0m\n\u001b[0;31mIndentationError\u001b[0m\u001b[0;31m:\u001b[0m expected an indented block\n"
     ]
    }
   ],
   "source": [
    "#树的遍历与打印：深度优先\n",
    "#递归前序\n",
    "def preorder_traversal(ll,root):\n",
    "    if root==None:\n",
    "        return \n",
    "    ll.append(root)\n",
    "    preorder_traversal(ll,root.left)\n",
    "    preorder_traversal(ll,right.left)\n",
    "    \n",
    "#递归中序\n",
    "def inorder_traversal(ll,root):\n",
    "    if root==None:\n",
    "        return \n",
    "    inorder_traversal(ll,root.left)\n",
    "    ll.append(root.val)\n",
    "    inorder_traversal(ll,root,right)\n",
    "\n",
    "#递归后序\n",
    "def postorder_traversal(ll,root):\n",
    "    if root==None:\n",
    "        return \n",
    "    postorder_traversal(11,root.right)\n",
    "    postorder_traversal(ll,root.left)\n",
    "    ll.append(root.val)"
   ]
  },
  {
   "cell_type": "code",
   "execution_count": null,
   "metadata": {
    "collapsed": true
   },
   "outputs": [],
   "source": [
    "#非递归版前序\n",
    "def preorderTraversal(root):\n",
    "    if root==None:\n",
    "        return []\n",
    "    rlist=[]\n",
    "    stack=[]\n",
    "    stack.append(root)\n",
    "    while(len(stack)):\n",
    "        head=stack.pop()\n",
    "        rlist.append(head.val)\n",
    "        if root.right:\n",
    "            stack.append(root.right)\n",
    "        if root.left:\n",
    "            stack.append(root.left)\n",
    "    return rlist\n",
    "\n",
    "#非递归版中序\n",
    "def inorderTraversal(root):\n",
    "    \n",
    "    rlist=[]\n",
    "    stack=[]\n",
    "    p=root\n",
    "    while(p!=None or len(stack)):\n",
    "        if p!=None:\n",
    "            stack.push(p)\n",
    "            p=p.left\n",
    "        else:\n",
    "            head=stack.pop()\n",
    "            rlist.append(head)\n",
    "            p=p.right\n",
    "        \n",
    "#非递归版的水平排序\n",
    "\n",
    "    \n",
    "   "
   ]
  }
 ],
 "metadata": {
  "kernelspec": {
   "display_name": "Python 2",
   "language": "python",
   "name": "python2"
  },
  "language_info": {
   "codemirror_mode": {
    "name": "ipython",
    "version": 2
   },
   "file_extension": ".py",
   "mimetype": "text/x-python",
   "name": "python",
   "nbconvert_exporter": "python",
   "pygments_lexer": "ipython2",
   "version": "2.7.13"
  }
 },
 "nbformat": 4,
 "nbformat_minor": 2
}
