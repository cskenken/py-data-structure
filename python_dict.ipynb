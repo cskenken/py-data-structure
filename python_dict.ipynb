{
 "cells": [
  {
   "cell_type": "code",
   "execution_count": 1,
   "metadata": {
    "collapsed": false
   },
   "outputs": [
    {
     "name": "stdout",
     "output_type": "stream",
     "text": [
      "{'North America': {'USA': ['Mountain View', 'Atlanta']}, 'Africa': {'Egypt': ['Cairo']}, 'Asia': {'China': ['Shanghai', 'Beijing'], 'India': ['Bangalore']}}\n"
     ]
    }
   ],
   "source": [
    "locations = {'North America': {'USA': ['Mountain View']}}\n",
    "locations['North America']['USA'].append('Atlanta')\n",
    "locations['Asia']={'India':['Bangalore']}\n",
    "locations['Asia']['China']=['Shanghai']\n",
    "locations['Asia']['China'].append('Beijing')\n",
    "locations['Africa']={'Egypt':['Cairo']}\n",
    "print locations\n"
   ]
  },
  {
   "cell_type": "code",
   "execution_count": 37,
   "metadata": {
    "collapsed": false,
    "scrolled": true
   },
   "outputs": [
    {
     "name": "stdout",
     "output_type": "stream",
     "text": [
      "Atlanta\n",
      "Mountain View\n"
     ]
    }
   ],
   "source": [
    "for temp in sorted(locations['North America']['USA']):\n",
    "    print temp"
   ]
  },
  {
   "cell_type": "code",
   "execution_count": 8,
   "metadata": {
    "collapsed": false
   },
   "outputs": [
    {
     "name": "stdout",
     "output_type": "stream",
     "text": [
      "Bangalore-India\n",
      "Beijing-China\n",
      "Shanghai-China\n"
     ]
    }
   ],
   "source": [
    "city_list=[]\n",
    "for country,cities in locations['Asia'].iteritems():\n",
    "    for city in cities:\n",
    "        temp=city+'-'+country\n",
    "        city_list.append(temp)\n",
    "for temp in sorted(city_list):\n",
    "    print temp\n",
    "    "
   ]
  },
  {
   "cell_type": "code",
   "execution_count": null,
   "metadata": {
    "collapsed": true
   },
   "outputs": [],
   "source": []
  }
 ],
 "metadata": {
  "kernelspec": {
   "display_name": "Python 2",
   "language": "python",
   "name": "python2"
  },
  "language_info": {
   "codemirror_mode": {
    "name": "ipython",
    "version": 2
   },
   "file_extension": ".py",
   "mimetype": "text/x-python",
   "name": "python",
   "nbconvert_exporter": "python",
   "pygments_lexer": "ipython2",
   "version": "2.7.13"
  }
 },
 "nbformat": 4,
 "nbformat_minor": 2
}
