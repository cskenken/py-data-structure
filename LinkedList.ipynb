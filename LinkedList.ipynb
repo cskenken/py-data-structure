{
 "cells": [
  {
   "cell_type": "code",
   "execution_count": 39,
   "metadata": {
    "collapsed": true
   },
   "outputs": [],
   "source": [
    "#使用python构造linked list\n",
    "\n",
    "#构造元素类：\n",
    "#属性：value和next\n",
    "#构造链表类：\n",
    "#属性：head\n",
    "#方法：append、insert、append、delete、get_position\n",
    "\n",
    "class Element(object):\n",
    "    def __init__(self,value):\n",
    "        self.value=value\n",
    "        self.next=None\n",
    "class LinkedList(object):\n",
    "    def __init__(self,head=None):\n",
    "        self.head=head\n",
    "    def append(self,new_element):\n",
    "        pass\n",
    "    def get_position(self,position):\n",
    "        pass\n",
    "    def insert(self,new_element,position):\n",
    "        pass\n",
    "    def delete(self,value):\n",
    "        pass\n"
   ]
  },
  {
   "cell_type": "code",
   "execution_count": null,
   "metadata": {
    "collapsed": true
   },
   "outputs": [],
   "source": [
    "#构造元素类\n",
    "\n",
    "class Element(object):\n",
    "    def __init__(self,value):\n",
    "        self.value=value\n",
    "        self.next=None"
   ]
  },
  {
   "cell_type": "code",
   "execution_count": 40,
   "metadata": {
    "collapsed": false
   },
   "outputs": [],
   "source": [
    "#构造链表类\n",
    "import types\n",
    "class LinkedList(object):\n",
    "    def __init__(self,head=None):\n",
    "        self.head=head\n",
    "    def append(self,new_element):\n",
    "        current=self.head\n",
    "        if self.head:\n",
    "            while current.next:\n",
    "                current=current.next\n",
    "            current.next=new_element\n",
    "        else:\n",
    "            self.head=new_element\n",
    "    def get_position(self,position):\n",
    "        if type(position) not in [types.IntType,types.LongType]:\n",
    "            print \"postion type is wrong\"\n",
    "            return None\n",
    "        if position<0:\n",
    "            print \"position can't be negati\"\n",
    "            return None\n",
    "        if self.head==None:\n",
    "            print \"the linked list is empty\"\n",
    "        else:\n",
    "            current=self.head\n",
    "            while current.next and position:\n",
    "                position=position-1\n",
    "                current=current.next\n",
    "            if position:\n",
    "                print \"positon is out of the linked list\"\n",
    "                return None\n",
    "            else:\n",
    "                return current\n",
    "    def insert(self,new_element,position):\n",
    "        if type(position) not in [types.IntType,types.LongType]:\n",
    "            print \"postion type is wrong\"\n",
    "            return None\n",
    "        if position<0:\n",
    "            print \"position can't be negative\"\n",
    "            return None\n",
    "        if self.head==None:\n",
    "            if position==0:\n",
    "                self.head=new_element\n",
    "            else:\n",
    "                print \"the linked list is empty\"\n",
    "                return None\n",
    "        else:\n",
    "            current=self.head\n",
    "            while current.next and position:\n",
    "                position=position-1\n",
    "                current=current.next\n",
    "            if position:\n",
    "                print \"position is out of the linked list\"\n",
    "                return None\n",
    "            else:\n",
    "                new_element.next=current.next\n",
    "                current.next=new_element\n",
    "    def delete(self,value):\n",
    "        if self.head:\n",
    "            current=self.head\n",
    "            if self.head.value==value:\n",
    "                self.head=current.next\n",
    "            else:\n",
    "                while current.next:\n",
    "                    if current.next.value==value:\n",
    "                        curren.next=current.next.next\n",
    "                        return \n",
    "                    current=current.next\n",
    "        else:\n",
    "            print \"the liked list is empty\""
   ]
  },
  {
   "cell_type": "code",
   "execution_count": 41,
   "metadata": {
    "collapsed": false
   },
   "outputs": [],
   "source": [
    "e1=Element(1)\n",
    "e2=Element(2)\n",
    "e3=Element(3)\n",
    "e4=Element(4)"
   ]
  },
  {
   "cell_type": "code",
   "execution_count": 42,
   "metadata": {
    "collapsed": false
   },
   "outputs": [],
   "source": [
    "ll=LinkedList(e1)\n",
    "ll.append(e2)\n",
    "ll.append(e3)"
   ]
  },
  {
   "cell_type": "code",
   "execution_count": 43,
   "metadata": {
    "collapsed": false
   },
   "outputs": [
    {
     "data": {
      "text/plain": [
       "3"
      ]
     },
     "execution_count": 43,
     "metadata": {},
     "output_type": "execute_result"
    }
   ],
   "source": [
    "ll.get_position(2).value\n",
    "print ll.head.next.next.value"
   ]
  },
  {
   "cell_type": "code",
   "execution_count": 45,
   "metadata": {
    "collapsed": false
   },
   "outputs": [],
   "source": [
    "ll.insert(e4,2)"
   ]
  },
  {
   "cell_type": "code",
   "execution_count": 46,
   "metadata": {
    "collapsed": false
   },
   "outputs": [
    {
     "name": "stdout",
     "output_type": "stream",
     "text": [
      "4\n"
     ]
    }
   ],
   "source": [
    "print ll.get_position(3).value"
   ]
  },
  {
   "cell_type": "code",
   "execution_count": 47,
   "metadata": {
    "collapsed": false
   },
   "outputs": [
    {
     "name": "stdout",
     "output_type": "stream",
     "text": [
      "1\n",
      "2\n",
      "3\n",
      "4\n"
     ]
    }
   ],
   "source": [
    "print ll.get_position(0).value\n",
    "print ll.get_position(1).value\n",
    "print ll.get_position(2).value\n",
    "print ll.get_position(3).value"
   ]
  },
  {
   "cell_type": "code",
   "execution_count": 48,
   "metadata": {
    "collapsed": false
   },
   "outputs": [
    {
     "name": "stdout",
     "output_type": "stream",
     "text": [
      "2\n",
      "3\n",
      "4\n"
     ]
    }
   ],
   "source": [
    "ll.delete(1)\n",
    "print ll.get_position(0).value\n",
    "print ll.get_position(1).value\n",
    "print ll.get_position(2).value"
   ]
  },
  {
   "cell_type": "code",
   "execution_count": null,
   "metadata": {
    "collapsed": true
   },
   "outputs": [],
   "source": []
  }
 ],
 "metadata": {
  "kernelspec": {
   "display_name": "Python 2",
   "language": "python",
   "name": "python2"
  },
  "language_info": {
   "codemirror_mode": {
    "name": "ipython",
    "version": 2
   },
   "file_extension": ".py",
   "mimetype": "text/x-python",
   "name": "python",
   "nbconvert_exporter": "python",
   "pygments_lexer": "ipython2",
   "version": "2.7.13"
  }
 },
 "nbformat": 4,
 "nbformat_minor": 2
}
