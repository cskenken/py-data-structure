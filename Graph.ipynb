{
 "cells": [
  {
   "cell_type": "code",
   "execution_count": 80,
   "metadata": {
    "collapsed": true
   },
   "outputs": [],
   "source": [
    "#node除了存储在本身的值，还要存储本身与其他节点的关系，即edges\n",
    "class Node(object):\n",
    "    def __init__(self,value):\n",
    "        self.value=value\n",
    "        self.edges=[]"
   ]
  },
  {
   "cell_type": "code",
   "execution_count": 81,
   "metadata": {
    "collapsed": true
   },
   "outputs": [],
   "source": [
    "#edge的定义，起始节点以及自己的值\n",
    "class Edge(object):\n",
    "    def __init__(self,value,node_from,node_to):\n",
    "        self.value=value\n",
    "        self.node_from=node_from\n",
    "        self.node_to=node_to"
   ]
  },
  {
   "cell_type": "code",
   "execution_count": 82,
   "metadata": {
    "collapsed": false
   },
   "outputs": [],
   "source": [
    "#图的定义，由节点，和边定义而成，由于可能有孤立的节点，单独使用，所以节点也使用上,也方便我们打印出不同的图的表现形式\n",
    "class Graph(object):\n",
    "    def __init__(self,nodes=[],edges=[]):\n",
    "        self.nodes=nodes\n",
    "        self.edges=edges\n",
    "        \n",
    "    #更新nodes，直接添加\n",
    "    def insert_node(self,new_node_value):\n",
    "        new_node=Node(node_value)\n",
    "        self.nodes.append(new_node)\n",
    "    #更新edeges，查找插入的edge的节点是否在nodes中，否则新建节点，更新节点的edges，以图的节点列表\n",
    "    def insert_edge(self,new_edge_val,node_from_val,node_to_val):\n",
    "        from_found=None\n",
    "        to_found=None\n",
    "        for node in self.nodes:\n",
    "            if node_from_val==node.value:\n",
    "                from_found=node\n",
    "            if node_to_val==node.value:\n",
    "                to_found=node\n",
    "        if from_found==None:\n",
    "            from_found=Node(node_from_val)\n",
    "            self.nodes.append(from_found)\n",
    "        if to_found==None:\n",
    "            to_found=Node(node_to_val)\n",
    "            self.nodes.append(to_found)\n",
    "        new_edge=Edge(new_edge_val,from_found,to_found)\n",
    "        from_found.edges.append(new_edge)\n",
    "        to_found.edges.append(new_edge)\n",
    "        self.edges.append(new_edge)  \n",
    "    def print_node(self):\n",
    "        for node in self.nodes:\n",
    "            print node.value\n",
    "    \n",
    "    #获得三种图的不同的表达方式\n",
    "    def get_edge_list(self):\n",
    "        edge_list=[]\n",
    "        for edge in self.edges:\n",
    "            edge_tuple=(edge.value,edge.node_from.value,edge.node_to.value)\n",
    "            edge_list.append(edge_tuple)        \n",
    "        return edge_list\n",
    "    \n",
    "    def get_adjecency_list(self):\n",
    "        \n",
    "        \n",
    "        max_value=self.get_max_node_value()\n",
    "        adjecency_list=[None]*(max_value+1)\n",
    "        for node in self.nodes:\n",
    "            print node.value\n",
    "            index=node.value\n",
    "            node_list=None\n",
    "            if node.edges:       \n",
    "                for edge in node.edges:\n",
    "                    if edge.node_from==node:\n",
    "                        if node_list==None:\n",
    "                            node_list=[]\n",
    "                        to_tuple=(edge.node_to.value,edge.value)\n",
    "                        node_list.append(to_tuple)\n",
    "            \n",
    "            adjecency_list[index]=node_list\n",
    "            \n",
    "        return adjecency_list\n",
    "        \n",
    "       \n",
    "    def get_adjecency_matrix(self):\n",
    "        max_value=self.get_max_node_value()\n",
    "        \n",
    "        matrix_list=[[0]*(max_value+1)]*(max_value+1)\n",
    "        for node in self.nodes:\n",
    "            list_for_node=[0]*(max_value+1)\n",
    "            node_index=node.value\n",
    "            for edge in self.edges:\n",
    "                if edge.node_from==node:\n",
    "                    index=edge.node_to.value\n",
    "                    list_for_node[index]=edge.value\n",
    "            matrix_list[node_index]=list_for_node\n",
    "        return matrix_list\n",
    "                    \n",
    "        \n",
    "    def get_max_node_value(self):\n",
    "        max_value=None\n",
    "        for node in self.nodes:\n",
    "            if max_value==None:\n",
    "                max_value=node.value\n",
    "            else:\n",
    "                if node.value>max_value:\n",
    "                    max_value=node.value\n",
    "        return max_value\n",
    "            "
   ]
  },
  {
   "cell_type": "code",
   "execution_count": 88,
   "metadata": {
    "collapsed": false
   },
   "outputs": [
    {
     "name": "stdout",
     "output_type": "stream",
     "text": [
      "100\n",
      "101\n",
      "102\n",
      "[(100, 1, 2), (101, 1, 3), (102, 1, 4), (103, 3, 4), (100, 1, 2), (101, 1, 3), (102, 1, 4), (103, 3, 4), (100, 1, 2), (101, 1, 3), (102, 1, 4), (103, 3, 4), (100, 1, 2), (101, 1, 3), (102, 1, 4), (103, 3, 4), (100, 1, 2), (101, 1, 3), (102, 1, 4), (103, 3, 4), (100, 1, 2), (101, 1, 3), (102, 1, 4), (103, 3, 4)]\n",
      "1\n",
      "2\n",
      "3\n",
      "4\n",
      "[None, [(2, 100), (3, 101), (4, 102), (2, 100), (3, 101), (4, 102), (2, 100), (3, 101), (4, 102), (2, 100), (3, 101), (4, 102), (2, 100), (3, 101), (4, 102), (2, 100), (3, 101), (4, 102)], None, [(4, 103), (4, 103), (4, 103), (4, 103), (4, 103), (4, 103)], None]\n",
      "[[0, 0, 0, 0, 0], [0, 0, 100, 101, 102], [0, 0, 0, 0, 0], [0, 0, 0, 0, 103], [0, 0, 0, 0, 0]]\n"
     ]
    }
   ],
   "source": [
    "graph=Graph()\n",
    "graph.insert_edge(100,1,2)\n",
    "graph.insert_edge(101,1,3)\n",
    "graph.insert_edge(102,1,4)\n",
    "graph.insert_edge(103,3,4)\n",
    "\n",
    "print graph.nodes[0].edges[0].value\n",
    "print graph.nodes[0].edges[1].value\n",
    "print graph.nodes[0].edges[2].value\n",
    "\n",
    "print graph.get_edge_list()\n",
    "print graph.get_adjecency_list()\n",
    "print graph.get_adjecency_matrix()\n"
   ]
  },
  {
   "cell_type": "code",
   "execution_count": 92,
   "metadata": {
    "collapsed": false
   },
   "outputs": [
    {
     "ename": "AttributeError",
     "evalue": "'list' object has no attribute 'copy'",
     "output_type": "error",
     "traceback": [
      "\u001b[0;31m---------------------------------------------------------------------------\u001b[0m",
      "\u001b[0;31mAttributeError\u001b[0m                            Traceback (most recent call last)",
      "\u001b[0;32m<ipython-input-92-bf910c9e39ca>\u001b[0m in \u001b[0;36m<module>\u001b[0;34m()\u001b[0m\n\u001b[1;32m      1\u001b[0m \u001b[0;32mimport\u001b[0m \u001b[0mcopy\u001b[0m\u001b[0;34m\u001b[0m\u001b[0m\n\u001b[1;32m      2\u001b[0m \u001b[0ma\u001b[0m\u001b[0;34m=\u001b[0m\u001b[0;34m[\u001b[0m\u001b[0;36m1\u001b[0m\u001b[0;34m]\u001b[0m\u001b[0;34m\u001b[0m\u001b[0m\n\u001b[0;32m----> 3\u001b[0;31m \u001b[0mb\u001b[0m\u001b[0;34m=\u001b[0m\u001b[0ma\u001b[0m\u001b[0;34m.\u001b[0m\u001b[0mcopy\u001b[0m\u001b[0;34m(\u001b[0m\u001b[0;34m)\u001b[0m\u001b[0;34m\u001b[0m\u001b[0m\n\u001b[0m\u001b[1;32m      4\u001b[0m \u001b[0mb\u001b[0m\u001b[0;34m=\u001b[0m\u001b[0mb\u001b[0m\u001b[0;34m+\u001b[0m\u001b[0;36m1\u001b[0m\u001b[0;34m\u001b[0m\u001b[0m\n\u001b[1;32m      5\u001b[0m \u001b[0;32mprint\u001b[0m \u001b[0ma\u001b[0m\u001b[0;34m\u001b[0m\u001b[0m\n",
      "\u001b[0;31mAttributeError\u001b[0m: 'list' object has no attribute 'copy'"
     ]
    }
   ],
   "source": [
    "import copy\n",
    "a=[1]\n",
    "b=a.copy()\n",
    "b=b+1\n",
    "print a\n",
    "print b"
   ]
  },
  {
   "cell_type": "code",
   "execution_count": null,
   "metadata": {
    "collapsed": true
   },
   "outputs": [],
   "source": []
  }
 ],
 "metadata": {
  "kernelspec": {
   "display_name": "Python 2",
   "language": "python",
   "name": "python2"
  },
  "language_info": {
   "codemirror_mode": {
    "name": "ipython",
    "version": 2
   },
   "file_extension": ".py",
   "mimetype": "text/x-python",
   "name": "python",
   "nbconvert_exporter": "python",
   "pygments_lexer": "ipython2",
   "version": "2.7.13"
  }
 },
 "nbformat": 4,
 "nbformat_minor": 2
}
