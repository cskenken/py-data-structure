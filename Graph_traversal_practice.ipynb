{
 "cells": [
  {
   "cell_type": "code",
   "execution_count": 65,
   "metadata": {
    "collapsed": true
   },
   "outputs": [],
   "source": [
    "#使用linkedlist来实现stack\n",
    "class Element(object):\n",
    "    def __init__(self,value):\n",
    "        self.value=value\n",
    "        self.next=None\n",
    "        \n",
    "        \n",
    "class LinkedList(object):\n",
    "    def __init__(self,head=None):\n",
    "        self.head=head\n",
    "        \n",
    "    #线性时间\n",
    "    def append(object):\n",
    "        current=self.head\n",
    "        if self.head:\n",
    "            while current.next:\n",
    "                current=current.next\n",
    "            current.next=new_element\n",
    "        else:\n",
    "            self.head=new_element\n",
    "            \n",
    "    #进栈操作,常数时间\n",
    "    def insert_first(self,new_element):\n",
    "        current=self.head\n",
    "        if self.head:\n",
    "            self.head=new_element\n",
    "            new_element.next=current\n",
    "        else:\n",
    "            self.head=new_element\n",
    "            \n",
    "    #出栈操作，常数时间\n",
    "    def delete_first(self):\n",
    "        current=self.head\n",
    "        if self.head:\n",
    "            self.head=current.next\n",
    "            return current\n",
    "        else:\n",
    "            return None\n",
    "    \n",
    "class Stack(object):\n",
    "    def __init__(self,top=None):\n",
    "        self.ll=LinkedList(top)        \n",
    "    def push(self,new_element):\n",
    "        self.ll.insert_first(new_element)       \n",
    "    def pop(self):\n",
    "        return self.ll.delete_first()  \n",
    "    def peek(self):\n",
    "        return self.ll.head"
   ]
  },
  {
   "cell_type": "code",
   "execution_count": 66,
   "metadata": {
    "collapsed": false
   },
   "outputs": [],
   "source": [
    "from collections import deque\n",
    "#边对象，包含边上值，起始节点和终止节点,有向图\n",
    "class Edge(object):\n",
    "    def __init__(self,value,node_from,node_to):\n",
    "        self.value=value\n",
    "        self.node_from=node_from\n",
    "        self.node_to=node_to    \n",
    "        \n",
    "        \n",
    "#节点对象，包含节点值value、节点和周围节点的关系edges、以及节点是否被访问的状态\n",
    "class Node(object):\n",
    "    def __init__(self,value):\n",
    "        self.value=value\n",
    "        self.edges=[]\n",
    "        self.visited=False  \n",
    "        \n",
    "        \n",
    "class Graph(object):\n",
    "    def __init__(self,nodes=[],edges=[]):\n",
    "        self.nodes=nodes\n",
    "        self.edges=edges\n",
    "        self.node_names=[]\n",
    "        self._node_map={}\n",
    "        \n",
    "    def set_node_names(self,names):\n",
    "        self.node_names=list(names)\n",
    "    \n",
    "    def insert_node(self,new_node_val):\n",
    "        new_node=Node(new_node_val)\n",
    "        self.nodes.append(new_node)\n",
    "        self._node_map[new_node_val]=new_node\n",
    "        return new_node\n",
    "    \n",
    "    def insert_edge(self,new_edge_val,node_from_val,node_to_val):\n",
    "        nodes={node_from_val:None,node_to_val:None}\n",
    "        for node in self.nodes:\n",
    "            if node.value in nodes:\n",
    "                nodes[node.value]=node\n",
    "                if all(nodes.values()):\n",
    "                    break\n",
    "        for node_val in nodes:\n",
    "            nodes[node_val]=nodes[node_val] or self.insert_node(node_val)\n",
    "        node_from=nodes[node_from_val]\n",
    "        node_to=nodes[node_to_val]\n",
    "        new_edge=Edge(new_edge_val,node_from,node_to)\n",
    "        node_from.edges.append(new_edge)\n",
    "        node_to.edges.append(new_edge)\n",
    "        self.edges.append(new_edge)\n",
    "                    \n",
    "    \n",
    "    def get_edge_list(self):\n",
    "        edge_list=[]\n",
    "        for edge in self.edges:\n",
    "            edge_tuple=(edge.value,edge.node_from.value,edge.node_to.value)\n",
    "            edge_list.append(edge_tuple)        \n",
    "        return edge_list\n",
    "    \n",
    "    def get_edge_list_names(self):\n",
    "        return [(edge.value,self.node_names[edge.node_from.value],\n",
    "                 self.node_names[edge.node_to.value]) for edge in self.edges]\n",
    "    \n",
    "    def get_adjacency_list(self):        \n",
    "        max_value=self.get_max_node_value()\n",
    "        adjecency_list=[None]*(max_value+1)\n",
    "        for node in self.nodes:\n",
    "            print node.value\n",
    "            index=node.value\n",
    "            node_list=None\n",
    "            if node.edges:       \n",
    "                for edge in node.edges:\n",
    "                    if edge.node_from==node:\n",
    "                        if node_list==None:\n",
    "                            node_list=[]\n",
    "                        to_tuple=(edge.node_to.value,edge.value)\n",
    "                        node_list.append(to_tuple)\n",
    "            \n",
    "            adjecency_list[index]=node_list\n",
    "            \n",
    "        return adjecency_list\n",
    "    \n",
    "    def get_adjacency_list_names(self):\n",
    "        max_value=self.find_max_index()\n",
    "        adjecency_list_name=[None]*(max_value+1)\n",
    "        for node in self.nodes:\n",
    "            #print node.value\n",
    "            index=node.value\n",
    "            node_list=None\n",
    "            if node.edges:       \n",
    "                for edge in node.edges:\n",
    "                    if edge.node_from==node:\n",
    "                        if node_list==None:\n",
    "                            node_list=[]\n",
    "                        to_tuple=(self.node_names[edge.node_to.value],edge.value)\n",
    "                        node_list.append(to_tuple)\n",
    "            \n",
    "            adjecency_list_name[index]=node_list\n",
    "            \n",
    "        return adjecency_list_name\n",
    "    \n",
    "    def get_adjacency_matrix(self):\n",
    "        max_value=self.find_max_index()\n",
    "        \n",
    "        matrix_list=[[0]*(max_value+1)]*(max_value+1)\n",
    "        for node in self.nodes:\n",
    "            list_for_node=[0]*(max_value+1)\n",
    "            node_index=node.value\n",
    "            for edge in self.edges:\n",
    "                if edge.node_from==node:\n",
    "                    index=edge.node_to.value\n",
    "                    list_for_node[index]=edge.value\n",
    "            matrix_list[node_index]=list_for_node\n",
    "        return matrix_list\n",
    "    \n",
    "    def find_max_index(self):\n",
    "        max_value=None\n",
    "        for node in self.nodes:\n",
    "            if max_value==None:\n",
    "                max_value=node.value\n",
    "            else:\n",
    "                if node.value>max_value:\n",
    "                    max_value=node.value\n",
    "        return max_value\n",
    "    \n",
    "    def find_node(self,node_number):\n",
    "        return self._node_map.get(node_number)\n",
    "        \n",
    "    \n",
    "    def _clear_visited(self):\n",
    "        for node in self.nodes:\n",
    "            node.visited=False\n",
    "    \n",
    "    def dfs_helper(self,start_node,ret_list=[]):\n",
    "        ret_list.append(start_node.value)\n",
    "        start_node.visited=True\n",
    "        if start_node.edges:\n",
    "            for edge in start_node.edges:\n",
    "                if start_node==edge.node_from:\n",
    "                    if edge.node_to.visited==False:\n",
    "                        self.dfs_helper(edge.node_to,ret_list)          \n",
    "        return ret_list\n",
    "    \n",
    "    def dfs(self,start_node_num):\n",
    "        self._clear_visited()\n",
    "        start_node=self.find_node(start_node_num)\n",
    "        return self.dfs_helper(start_node)\n",
    "        \n",
    "    \n",
    "    def dfs_names(self,start_node_num):\n",
    "        return [self.node_names[num] for num in self.dfs(start_node_num)]\n",
    "    \n",
    "#     def dfs_recursive(self,start_node_num):\n",
    "#         node=self.find_node(start_node_num)\n",
    "#         self._clear_visited()\n",
    "#         node.visited=True\n",
    "#         ret_list=[]\n",
    "#         node_stack=Stack()\n",
    "#         node_stack.push(node)\n",
    "#         ret_list.append(node.value)\n",
    "#         while node: \n",
    "            \n",
    "#             while self.dfs_get_node_helper(node):\n",
    "#                 next_node=self.dfs_get_node_helper(node)\n",
    "#                 next_node.visited=True\n",
    "#                 node_stack.push(next_node)\n",
    "#                 ret_list.append(next_node.value)\n",
    "#                 node=next_node\n",
    "#             node_stack.pop()\n",
    "#             node=node_stack.peek()\n",
    "        \n",
    "                \n",
    "    \n",
    "#     def dfs_get_node_helper(self,node):\n",
    "#         for edge in node.edges:\n",
    "#             if node.value==edge.node_from.value:\n",
    "#                 if edge.node_to.visited==False:\n",
    "#                     return edge.node_to\n",
    "#         return None\n",
    "                    \n",
    "                \n",
    "                \n",
    "    def bfs(self,start_node_num):\n",
    "        node=self.find_node(start_node_num)\n",
    "        self._clear_visited()\n",
    "        node.visited=True\n",
    "        ret_list=[]\n",
    "        node_queue=deque()\n",
    "        node_queue.append(node)\n",
    "        while len(node_queue):            \n",
    "            for edge in node_queue[0].edges:\n",
    "                if node_queue[0].value==edge.node_from.value:\n",
    "                    if edge.node_to.visited==False:\n",
    "                        edge.node_to.visited=True\n",
    "                        node_queue.append(edge.node_to)\n",
    "            pop_value=node_queue.popleft().value\n",
    "            #print pop_value\n",
    "            ret_list.append(pop_value)\n",
    "                    \n",
    "        return ret_list\n",
    "    \n",
    "    def bfs_names(self,start_node_num):      \n",
    "        return [self.node_names[num]for num in self.bfs(start_node_num)]       "
   ]
  },
  {
   "cell_type": "code",
   "execution_count": 67,
   "metadata": {
    "collapsed": false
   },
   "outputs": [],
   "source": [
    "graph = Graph()\n",
    "\n",
    "# You do not need to change anything below this line.\n",
    "# You only need to implement Graph.dfs_helper and Graph.bfs\n",
    "\n",
    "graph.set_node_names(('Mountain View',   # 0\n",
    "                      'San Francisco',   # 1\n",
    "                      'London',          # 2\n",
    "                      'Shanghai',        # 3\n",
    "                      'Berlin',          # 4\n",
    "                      'Sao Paolo',       # 5\n",
    "                      'Bangalore'))      # 6 \n",
    "\n",
    "graph.insert_edge(51, 0, 1)     # MV <-> SF\n",
    "graph.insert_edge(51, 1, 0)     # SF <-> MV\n",
    "graph.insert_edge(9950, 0, 3)   # MV <-> Shanghai\n",
    "graph.insert_edge(9950, 3, 0)   # Shanghai <-> MV\n",
    "graph.insert_edge(10375, 0, 5)  # MV <-> Sao Paolo\n",
    "graph.insert_edge(10375, 5, 0)  # Sao Paolo <-> MV\n",
    "graph.insert_edge(9900, 1, 3)   # SF <-> Shanghai\n",
    "graph.insert_edge(9900, 3, 1)   # Shanghai <-> SF\n",
    "graph.insert_edge(9130, 1, 4)   # SF <-> Berlin\n",
    "graph.insert_edge(9130, 4, 1)   # Berlin <-> SF\n",
    "graph.insert_edge(9217, 2, 3)   # London <-> Shanghai\n",
    "graph.insert_edge(9217, 3, 2)   # Shanghai <-> London\n",
    "graph.insert_edge(932, 2, 4)    # London <-> Berlin\n",
    "graph.insert_edge(932, 4, 2)    # Berlin <-> London\n",
    "graph.insert_edge(9471, 2, 5)   # London <-> Sao Paolo\n",
    "graph.insert_edge(9471, 5, 2)   # Sao Paolo <-> London\n",
    "# (6) 'Bangalore' is intentionally disconnected (no edges)\n",
    "# for this problem and should produce None in the\n",
    "# Adjacency List, etc."
   ]
  },
  {
   "cell_type": "code",
   "execution_count": 68,
   "metadata": {
    "collapsed": false
   },
   "outputs": [
    {
     "name": "stdout",
     "output_type": "stream",
     "text": [
      "Edge List\n",
      "[ (51, 'Mountain View', 'San Francisco'),\n",
      "  (51, 'San Francisco', 'Mountain View'),\n",
      "  (9950, 'Mountain View', 'Shanghai'),\n",
      "  (9950, 'Shanghai', 'Mountain View'),\n",
      "  (10375, 'Mountain View', 'Sao Paolo'),\n",
      "  (10375, 'Sao Paolo', 'Mountain View'),\n",
      "  (9900, 'San Francisco', 'Shanghai'),\n",
      "  (9900, 'Shanghai', 'San Francisco'),\n",
      "  (9130, 'San Francisco', 'Berlin'),\n",
      "  (9130, 'Berlin', 'San Francisco'),\n",
      "  (9217, 'London', 'Shanghai'),\n",
      "  (9217, 'Shanghai', 'London'),\n",
      "  (932, 'London', 'Berlin'),\n",
      "  (932, 'Berlin', 'London'),\n",
      "  (9471, 'London', 'Sao Paolo'),\n",
      "  (9471, 'Sao Paolo', 'London')]\n",
      "\n",
      "Adjacency List\n",
      "[ [('San Francisco', 51), ('Shanghai', 9950), ('Sao Paolo', 10375)],\n",
      "  [('Mountain View', 51), ('Shanghai', 9900), ('Berlin', 9130)],\n",
      "  [('Shanghai', 9217), ('Berlin', 932), ('Sao Paolo', 9471)],\n",
      "  [('Mountain View', 9950), ('San Francisco', 9900), ('London', 9217)],\n",
      "  [('San Francisco', 9130), ('London', 932)],\n",
      "  [('Mountain View', 10375), ('London', 9471)]]\n",
      "\n",
      "Adjacency Matrix\n",
      "[ [0, 51, 0, 9950, 0, 10375],\n",
      "  [51, 0, 0, 9900, 9130, 0],\n",
      "  [0, 0, 0, 9217, 932, 9471],\n",
      "  [9950, 9900, 9217, 0, 0, 0],\n",
      "  [0, 9130, 932, 0, 0, 0],\n",
      "  [10375, 0, 9471, 0, 0, 0]]\n",
      "\n",
      "Depth First Search\n",
      "['London', 'Shanghai', 'Mountain View', 'San Francisco', 'Berlin', 'Sao Paolo']\n",
      "\n",
      "Breadth First Search\n",
      "['London', 'Shanghai', 'Berlin', 'Sao Paolo', 'Mountain View', 'San Francisco']\n"
     ]
    },
    {
     "ename": "AttributeError",
     "evalue": "'Node' object has no attribute 'next'",
     "output_type": "error",
     "traceback": [
      "\u001b[0;31m---------------------------------------------------------------------------\u001b[0m",
      "\u001b[0;31mAttributeError\u001b[0m                            Traceback (most recent call last)",
      "\u001b[0;32m<ipython-input-68-5c5d81e13c53>\u001b[0m in \u001b[0;36m<module>\u001b[0;34m()\u001b[0m\n\u001b[1;32m     17\u001b[0m \u001b[0mpp\u001b[0m\u001b[0;34m.\u001b[0m\u001b[0mpprint\u001b[0m\u001b[0;34m(\u001b[0m\u001b[0mgraph\u001b[0m\u001b[0;34m.\u001b[0m\u001b[0mbfs_names\u001b[0m\u001b[0;34m(\u001b[0m\u001b[0;36m2\u001b[0m\u001b[0;34m)\u001b[0m\u001b[0;34m)\u001b[0m\u001b[0;34m\u001b[0m\u001b[0m\n\u001b[1;32m     18\u001b[0m \u001b[0;34m\u001b[0m\u001b[0m\n\u001b[0;32m---> 19\u001b[0;31m \u001b[0mgraph\u001b[0m\u001b[0;34m.\u001b[0m\u001b[0mdfs_recursive\u001b[0m\u001b[0;34m(\u001b[0m\u001b[0;36m2\u001b[0m\u001b[0;34m)\u001b[0m\u001b[0;34m\u001b[0m\u001b[0m\n\u001b[0m",
      "\u001b[0;32m<ipython-input-66-3e7fa4bd3f86>\u001b[0m in \u001b[0;36mdfs_recursive\u001b[0;34m(self, start_node_num)\u001b[0m\n\u001b[1;32m    165\u001b[0m                 \u001b[0mret_list\u001b[0m\u001b[0;34m.\u001b[0m\u001b[0mappend\u001b[0m\u001b[0;34m(\u001b[0m\u001b[0mnext_node\u001b[0m\u001b[0;34m.\u001b[0m\u001b[0mvalue\u001b[0m\u001b[0;34m)\u001b[0m\u001b[0;34m\u001b[0m\u001b[0m\n\u001b[1;32m    166\u001b[0m                 \u001b[0mnode\u001b[0m\u001b[0;34m=\u001b[0m\u001b[0mnext_node\u001b[0m\u001b[0;34m\u001b[0m\u001b[0m\n\u001b[0;32m--> 167\u001b[0;31m             \u001b[0mnode_stack\u001b[0m\u001b[0;34m.\u001b[0m\u001b[0mpop\u001b[0m\u001b[0;34m(\u001b[0m\u001b[0;34m)\u001b[0m\u001b[0;34m\u001b[0m\u001b[0m\n\u001b[0m\u001b[1;32m    168\u001b[0m             \u001b[0mnode\u001b[0m\u001b[0;34m=\u001b[0m\u001b[0mnode_stack\u001b[0m\u001b[0;34m.\u001b[0m\u001b[0mpeek\u001b[0m\u001b[0;34m(\u001b[0m\u001b[0;34m)\u001b[0m\u001b[0;34m\u001b[0m\u001b[0m\n\u001b[1;32m    169\u001b[0m \u001b[0;34m\u001b[0m\u001b[0m\n",
      "\u001b[0;32m<ipython-input-65-fa83a0d0f912>\u001b[0m in \u001b[0;36mpop\u001b[0;34m(self)\u001b[0m\n\u001b[1;32m     44\u001b[0m         \u001b[0mself\u001b[0m\u001b[0;34m.\u001b[0m\u001b[0mll\u001b[0m\u001b[0;34m.\u001b[0m\u001b[0minsert_first\u001b[0m\u001b[0;34m(\u001b[0m\u001b[0mnew_element\u001b[0m\u001b[0;34m)\u001b[0m\u001b[0;34m\u001b[0m\u001b[0m\n\u001b[1;32m     45\u001b[0m     \u001b[0;32mdef\u001b[0m \u001b[0mpop\u001b[0m\u001b[0;34m(\u001b[0m\u001b[0mself\u001b[0m\u001b[0;34m)\u001b[0m\u001b[0;34m:\u001b[0m\u001b[0;34m\u001b[0m\u001b[0m\n\u001b[0;32m---> 46\u001b[0;31m         \u001b[0;32mreturn\u001b[0m \u001b[0mself\u001b[0m\u001b[0;34m.\u001b[0m\u001b[0mll\u001b[0m\u001b[0;34m.\u001b[0m\u001b[0mdelete_first\u001b[0m\u001b[0;34m(\u001b[0m\u001b[0;34m)\u001b[0m\u001b[0;34m\u001b[0m\u001b[0m\n\u001b[0m\u001b[1;32m     47\u001b[0m     \u001b[0;32mdef\u001b[0m \u001b[0mpeek\u001b[0m\u001b[0;34m(\u001b[0m\u001b[0mself\u001b[0m\u001b[0;34m)\u001b[0m\u001b[0;34m:\u001b[0m\u001b[0;34m\u001b[0m\u001b[0m\n\u001b[1;32m     48\u001b[0m         \u001b[0;32mreturn\u001b[0m \u001b[0mself\u001b[0m\u001b[0;34m.\u001b[0m\u001b[0mll\u001b[0m\u001b[0;34m.\u001b[0m\u001b[0mhead\u001b[0m\u001b[0;34m\u001b[0m\u001b[0m\n",
      "\u001b[0;32m<ipython-input-65-fa83a0d0f912>\u001b[0m in \u001b[0;36mdelete_first\u001b[0;34m(self)\u001b[0m\n\u001b[1;32m     33\u001b[0m         \u001b[0mcurrent\u001b[0m\u001b[0;34m=\u001b[0m\u001b[0mself\u001b[0m\u001b[0;34m.\u001b[0m\u001b[0mhead\u001b[0m\u001b[0;34m\u001b[0m\u001b[0m\n\u001b[1;32m     34\u001b[0m         \u001b[0;32mif\u001b[0m \u001b[0mself\u001b[0m\u001b[0;34m.\u001b[0m\u001b[0mhead\u001b[0m\u001b[0;34m:\u001b[0m\u001b[0;34m\u001b[0m\u001b[0m\n\u001b[0;32m---> 35\u001b[0;31m             \u001b[0mself\u001b[0m\u001b[0;34m.\u001b[0m\u001b[0mhead\u001b[0m\u001b[0;34m=\u001b[0m\u001b[0mcurrent\u001b[0m\u001b[0;34m.\u001b[0m\u001b[0mnext\u001b[0m\u001b[0;34m\u001b[0m\u001b[0m\n\u001b[0m\u001b[1;32m     36\u001b[0m             \u001b[0;32mreturn\u001b[0m \u001b[0mcurrent\u001b[0m\u001b[0;34m\u001b[0m\u001b[0m\n\u001b[1;32m     37\u001b[0m         \u001b[0;32melse\u001b[0m\u001b[0;34m:\u001b[0m\u001b[0;34m\u001b[0m\u001b[0m\n",
      "\u001b[0;31mAttributeError\u001b[0m: 'Node' object has no attribute 'next'"
     ]
    }
   ],
   "source": [
    "import pprint\n",
    "pp = pprint.PrettyPrinter(indent=2)\n",
    "\n",
    "print \"Edge List\"\n",
    "pp.pprint(graph.get_edge_list_names())\n",
    "\n",
    "print \"\\nAdjacency List\"\n",
    "pp.pprint(graph.get_adjacency_list_names())\n",
    "\n",
    "print \"\\nAdjacency Matrix\"\n",
    "pp.pprint(graph.get_adjacency_matrix())\n",
    "\n",
    "print \"\\nDepth First Search\"\n",
    "pp.pprint(graph.dfs_names(2))\n",
    "\n",
    "print \"\\nBreadth First Search\"\n",
    "pp.pprint(graph.bfs_names(2))\n",
    "\n",
    "graph.dfs_recursive(2)"
   ]
  },
  {
   "cell_type": "code",
   "execution_count": 46,
   "metadata": {
    "collapsed": false
   },
   "outputs": [
    {
     "name": "stdout",
     "output_type": "stream",
     "text": [
      "deque([3, 4, 5])\n"
     ]
    },
    {
     "data": {
      "text/plain": [
       "3"
      ]
     },
     "execution_count": 46,
     "metadata": {},
     "output_type": "execute_result"
    }
   ],
   "source": [
    "from collections import deque\n",
    "q=deque([2,3,4])\n",
    "\n",
    "#进入队列 append\n",
    "q.append(5) \n",
    "#出队列 popleft\n",
    "q.popleft()\n",
    "print q\n",
    "len(q)"
   ]
  },
  {
   "cell_type": "code",
   "execution_count": 47,
   "metadata": {
    "collapsed": false
   },
   "outputs": [
    {
     "name": "stdout",
     "output_type": "stream",
     "text": [
      "deque([])\n"
     ]
    }
   ],
   "source": [
    "from collections import deque\n",
    "\n",
    "a=deque()\n",
    "a.append(5)\n",
    "a.popleft()\n",
    "print a\n"
   ]
  },
  {
   "cell_type": "code",
   "execution_count": 48,
   "metadata": {
    "collapsed": false
   },
   "outputs": [
    {
     "name": "stdout",
     "output_type": "stream",
     "text": [
      "[2, 3, 4, 5, 0, 1]\n"
     ]
    }
   ],
   "source": [
    "print graph.bfs(2)"
   ]
  },
  {
   "cell_type": "code",
   "execution_count": 49,
   "metadata": {
    "collapsed": true
   },
   "outputs": [],
   "source": [
    "import pprint\n",
    "pp = pprint.PrettyPrinter(indent=2)"
   ]
  },
  {
   "cell_type": "code",
   "execution_count": 25,
   "metadata": {
    "collapsed": false
   },
   "outputs": [
    {
     "name": "stdout",
     "output_type": "stream",
     "text": [
      "Edge List\n",
      "[ (51, 'Mountain View', 'San Francisco'),\n",
      "  (51, 'San Francisco', 'Mountain View'),\n",
      "  (9950, 'Mountain View', 'Shanghai'),\n",
      "  (9950, 'Shanghai', 'Mountain View'),\n",
      "  (10375, 'Mountain View', 'Sao Paolo'),\n",
      "  (10375, 'Sao Paolo', 'Mountain View'),\n",
      "  (9900, 'San Francisco', 'Shanghai'),\n",
      "  (9900, 'Shanghai', 'San Francisco'),\n",
      "  (9130, 'San Francisco', 'Berlin'),\n",
      "  (9130, 'Berlin', 'San Francisco'),\n",
      "  (9217, 'London', 'Shanghai'),\n",
      "  (9217, 'Shanghai', 'London'),\n",
      "  (932, 'London', 'Berlin'),\n",
      "  (932, 'Berlin', 'London'),\n",
      "  (9471, 'London', 'Sao Paolo'),\n",
      "  (9471, 'Sao Paolo', 'London')]\n"
     ]
    }
   ],
   "source": [
    "print \"Edge List\"\n",
    "pp.pprint(graph.get_edge_list_names())"
   ]
  },
  {
   "cell_type": "code",
   "execution_count": 26,
   "metadata": {
    "collapsed": false
   },
   "outputs": [
    {
     "name": "stdout",
     "output_type": "stream",
     "text": [
      "\n",
      "Adjacency List\n",
      "[ [('San Francisco', 51), ('Shanghai', 9950), ('Sao Paolo', 10375)],\n",
      "  [('Mountain View', 51), ('Shanghai', 9900), ('Berlin', 9130)],\n",
      "  [('Shanghai', 9217), ('Berlin', 932), ('Sao Paolo', 9471)],\n",
      "  [('Mountain View', 9950), ('San Francisco', 9900), ('London', 9217)],\n",
      "  [('San Francisco', 9130), ('London', 932)],\n",
      "  [('Mountain View', 10375), ('London', 9471)]]\n"
     ]
    }
   ],
   "source": [
    "\n",
    "print \"\\nAdjacency List\"\n",
    "pp.pprint(graph.get_adjacency_list_names())"
   ]
  },
  {
   "cell_type": "code",
   "execution_count": 27,
   "metadata": {
    "collapsed": false
   },
   "outputs": [
    {
     "name": "stdout",
     "output_type": "stream",
     "text": [
      "\n",
      "Adjacency Matrix\n",
      "[ [0, 51, 0, 9950, 0, 10375],\n",
      "  [51, 0, 0, 9900, 9130, 0],\n",
      "  [0, 0, 0, 9217, 932, 9471],\n",
      "  [9950, 9900, 9217, 0, 0, 0],\n",
      "  [0, 9130, 932, 0, 0, 0],\n",
      "  [10375, 0, 9471, 0, 0, 0]]\n"
     ]
    }
   ],
   "source": [
    "print \"\\nAdjacency Matrix\"\n",
    "pp.pprint(graph.get_adjacency_matrix())"
   ]
  },
  {
   "cell_type": "code",
   "execution_count": 28,
   "metadata": {
    "collapsed": false
   },
   "outputs": [
    {
     "name": "stdout",
     "output_type": "stream",
     "text": [
      "\n",
      "Depth First Search\n",
      "['London', 'Shanghai', 'Mountain View', 'San Francisco', 'Berlin', 'Sao Paolo']\n"
     ]
    }
   ],
   "source": [
    "print \"\\nDepth First Search\"\n",
    "pp.pprint(graph.dfs_names(2))"
   ]
  },
  {
   "cell_type": "code",
   "execution_count": null,
   "metadata": {
    "collapsed": true
   },
   "outputs": [],
   "source": []
  },
  {
   "cell_type": "code",
   "execution_count": null,
   "metadata": {
    "collapsed": true
   },
   "outputs": [],
   "source": []
  },
  {
   "cell_type": "code",
   "execution_count": null,
   "metadata": {
    "collapsed": true
   },
   "outputs": [],
   "source": []
  }
 ],
 "metadata": {
  "kernelspec": {
   "display_name": "Python 2",
   "language": "python",
   "name": "python2"
  },
  "language_info": {
   "codemirror_mode": {
    "name": "ipython",
    "version": 2
   },
   "file_extension": ".py",
   "mimetype": "text/x-python",
   "name": "python",
   "nbconvert_exporter": "python",
   "pygments_lexer": "ipython2",
   "version": "2.7.13"
  }
 },
 "nbformat": 4,
 "nbformat_minor": 2
}
