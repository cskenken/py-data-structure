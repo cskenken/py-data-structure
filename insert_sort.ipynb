{
 "cells": [
  {
   "cell_type": "code",
   "execution_count": 13,
   "metadata": {
    "collapsed": false
   },
   "outputs": [],
   "source": [
    "#每次选择一个位置，依次从此位置到头，寻找到插入到合适的位置\n",
    "\n",
    "def insert_sort(array):\n",
    "    n=len(array)\n",
    "    for i in range(n):\n",
    "        temp=array[i] \n",
    "        #从第二个元素开始\n",
    "        if i>=1:\n",
    "            k=i-1\n",
    "            #依次查找从此位置到头的元素\n",
    "            while(temp<array[k] and k>0):\n",
    "                k=k-1   \n",
    "            #插入与元素\n",
    "            array[k+1:i+1]=array[k:i]\n",
    "            array[k]=temp\n",
    "    return array\n",
    "            "
   ]
  },
  {
   "cell_type": "code",
   "execution_count": 14,
   "metadata": {
    "collapsed": false
   },
   "outputs": [
    {
     "name": "stdout",
     "output_type": "stream",
     "text": [
      "[1, 2, 2, 3, 3, 4]\n"
     ]
    }
   ],
   "source": [
    "a=[4,3,3,2,2,1]\n",
    "print insert_sort(a)"
   ]
  },
  {
   "cell_type": "code",
   "execution_count": null,
   "metadata": {
    "collapsed": true
   },
   "outputs": [],
   "source": []
  }
 ],
 "metadata": {
  "kernelspec": {
   "display_name": "Python 2",
   "language": "python",
   "name": "python2"
  },
  "language_info": {
   "codemirror_mode": {
    "name": "ipython",
    "version": 2
   },
   "file_extension": ".py",
   "mimetype": "text/x-python",
   "name": "python",
   "nbconvert_exporter": "python",
   "pygments_lexer": "ipython2",
   "version": "2.7.13"
  }
 },
 "nbformat": 4,
 "nbformat_minor": 2
}
