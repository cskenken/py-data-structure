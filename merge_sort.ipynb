{
 "cells": [
  {
   "cell_type": "code",
   "execution_count": 1,
   "metadata": {
    "collapsed": true
   },
   "outputs": [],
   "source": [
    "#递归的思路：主要找到递归的方式，以及两次递归之间的联系\n",
    "\n",
    "#主要找到递归的方式：（1）将数组一分为二，先将2个数组各自拍好序，然后合并排好序的数组就行，\n",
    "#（2）为了实现2个子数组各自排序，在2个子数组里面又使用（1）的方法\n",
    "#（3）直到子数组只剩1个元素，说明已排好序\n",
    "\n",
    "\n",
    "def merge_array(array,first,mid,end):\n",
    "    temp=[]\n",
    "    i=first \n",
    "    j=mid+1\n",
    "    \n",
    "    #左右比较，直到有一个子数组为空\n",
    "    #注意首先就得定好左右子数组的分法，尤其对于2个元素的时候，结合mid\n",
    "    #左：0-->mid,\n",
    "    #右：mid+1-->end\n",
    "    while i<=mid and j<=end:\n",
    "        if array[i]<=array[j]:\n",
    "            temp.append(array[i])\n",
    "            i=i+1\n",
    "        else:\n",
    "            temp.append(array[j])\n",
    "            j=j+1\n",
    "    \n",
    "    #若右边数组有剩余，添加到temp数组\n",
    "    while j<=end:\n",
    "        temp.append(array[j])\n",
    "        j=j+1\n",
    "    #若左边数组有剩余，添加到temp数组\n",
    "    while i<=mid:\n",
    "        temp.append(array[i])\n",
    "        i=i+1\n",
    "        \n",
    "    #将temp的替换array中相应的值\n",
    "    k=0\n",
    "    for x in temp:\n",
    "        array[first+k]=x\n",
    "        k=k+1\n",
    "    return array\n",
    "\n"
   ]
  },
  {
   "cell_type": "code",
   "execution_count": 2,
   "metadata": {
    "collapsed": true
   },
   "outputs": [],
   "source": [
    "def merge_sort(array,first,end):\n",
    "    if first<end:\n",
    "        mid=(first+end)/2\n",
    "        merge_sort(array,first,mid)\n",
    "        merge_sort(array,mid+1,end)\n",
    "        merge_array(array,first,mid,end)\n",
    "    return array"
   ]
  },
  {
   "cell_type": "code",
   "execution_count": 5,
   "metadata": {
    "collapsed": false
   },
   "outputs": [
    {
     "name": "stdout",
     "output_type": "stream",
     "text": [
      "[1, 4, 5, 6, 7]\n"
     ]
    }
   ],
   "source": [
    "a=[4,5,6,1,7]\n",
    "first=0\n",
    "end=len(a)-1\n",
    "mid=(first+end)/2\n",
    "print merge_sort(a,first,end)"
   ]
  },
  {
   "cell_type": "code",
   "execution_count": null,
   "metadata": {
    "collapsed": true
   },
   "outputs": [],
   "source": []
  }
 ],
 "metadata": {
  "kernelspec": {
   "display_name": "Python 2",
   "language": "python",
   "name": "python2"
  },
  "language_info": {
   "codemirror_mode": {
    "name": "ipython",
    "version": 2
   },
   "file_extension": ".py",
   "mimetype": "text/x-python",
   "name": "python",
   "nbconvert_exporter": "python",
   "pygments_lexer": "ipython2",
   "version": "2.7.13"
  }
 },
 "nbformat": 4,
 "nbformat_minor": 2
}
